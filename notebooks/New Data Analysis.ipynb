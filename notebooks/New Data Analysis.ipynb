{
 "metadata": {
  "name": "New Data Analysis"
 },
 "nbformat": 3,
 "nbformat_minor": 0,
 "worksheets": [
  {
   "cells": [
    {
     "cell_type": "heading",
     "level": 2,
     "metadata": {},
     "source": [
      "Set-Up"
     ]
    },
    {
     "cell_type": "code",
     "collapsed": false,
     "input": [
      "%pylab inline"
     ],
     "language": "python",
     "metadata": {},
     "outputs": []
    },
    {
     "cell_type": "code",
     "collapsed": false,
     "input": [
      "import matplotlib.pyplot as plt\n",
      "from disser.io import DataCache\n",
      "from disser import datatypes\n",
      "import disser.plots.defaults as defaults\n",
      "from disser import plots, datatypes, atten\n",
      "plt.rcParams['savefig.dpi'] = 107"
     ],
     "language": "python",
     "metadata": {},
     "outputs": []
    },
    {
     "cell_type": "heading",
     "level": 2,
     "metadata": {},
     "source": [
      "Read data"
     ]
    },
    {
     "cell_type": "code",
     "collapsed": false,
     "input": [
      "#import warnings; warnings.filterwarnings(\"error\")"
     ],
     "language": "python",
     "metadata": {},
     "outputs": []
    },
    {
     "cell_type": "code",
     "collapsed": false,
     "input": [
      "def sorter(k):\n",
      "    # Map certain experiments to sort to front or end\n",
      "    return k[0], {'Control':'@', 'Combined':'}'}.get(k[1], k[1])\n",
      "\n",
      "def make_key(data):\n",
      "    diff_count = 0\n",
      "    exp_key = 'Control'\n",
      "    if np.abs(data.wavelength.rescale(pq.cm) - np.round(data.wavelength.rescale(pq.cm), 0)) < 0.1:\n",
      "        exp_key = 'Wavelength'\n",
      "        diff_count += 1\n",
      "    if np.isnan(data.runinfo.FixedTemp):\n",
      "        exp_key = 'Temperature'\n",
      "        diff_count += 1\n",
      "    if data.runinfo.CantingWidth > 10.0:\n",
      "        exp_key = 'Canting'\n",
      "        diff_count += 1\n",
      "    if data.runinfo.AxisRatioCalc != 'Brandes':\n",
      "        exp_key = 'Shape'\n",
      "        diff_count += 1\n",
      "    if diff_count > 1:\n",
      "        exp_key = 'Combined'\n",
      "    return data.waveBand, exp_key\n",
      "\n",
      "data_cache = DataCache('ref_runs', make_key, ('band', 'exp'))\n",
      "data_cache.key_sorter = sorter\n",
      "wavelengths,exps = data_cache.sub_keys()"
     ],
     "language": "python",
     "metadata": {},
     "outputs": []
    },
    {
     "cell_type": "heading",
     "level": 2,
     "metadata": {},
     "source": [
      "Basic Data Plots"
     ]
    },
    {
     "cell_type": "code",
     "collapsed": false,
     "input": [
      "from itertools import product\n",
      "figsize(11, 6)\n",
      "for lam_text, exp_text in product(wavelengths, exps):\n",
      "    data = data_cache[lam_text, exp_text]\n",
      "    with datatypes.PlotInfoContext(wavelength=data.wavelength):\n",
      "        moments = [data.fields.grab(moment, pol='H', source='ts')\n",
      "                       for moment in (datatypes.Reflectivity,\n",
      "                           datatypes.DopplerVelocity, datatypes.SpectrumWidth,\n",
      "                           datatypes.ZDR, datatypes.RhoHV, datatypes.KDP,\n",
      "                           datatypes.PhiDP, datatypes.SpecDiffAtten)]\n",
      "\n",
      "        grid = defaults.multipanel_cbar_each(plt.figure(), (2, 4), moments, data, rect=[0, 0, 1, 0.87])\n",
      "        text = 'Band: %s Exp: %s' % (lam_text, exp_text)\n",
      "        title = grid[0].figure.suptitle(text, fontsize=11)"
     ],
     "language": "python",
     "metadata": {},
     "outputs": []
    },
    {
     "cell_type": "heading",
     "level": 2,
     "metadata": {},
     "source": [
      "Attenuation"
     ]
    },
    {
     "cell_type": "code",
     "collapsed": false,
     "input": [
      "figsize(12, 12)\n",
      "for lam_text in wavelengths:\n",
      "    moments = list()\n",
      "    data_list = list()\n",
      "    for data in data_cache.query(band=lam_text):\n",
      "        moms = [data.fields.grab(datatypes.PhiDP, pol='H', source='average'),\n",
      "                data.fields.grab(datatypes.Attenuation, pol='H', source='calc'),\n",
      "                data.fields.grab(datatypes.SpecAttenuation, pol='H', source='calc'),\n",
      "                data.fields.grab(datatypes.DiffAtten, pol='H', source='calc'),\n",
      "                data.fields.grab(datatypes.SpecDiffAtten, pol='H', source='calc')]\n",
      "        moments.extend(moms)\n",
      "        data_list.extend([data] * len(moms))\n",
      "\n",
      "    with datatypes.PlotInfoContext(wavelength=data.wavelength):\n",
      "        grid = defaults.multipanel_cbar_row(plt.figure(), (len(moms), len(exps)), moments, data_list, rect=[0, 0, 1, 0.9])\n",
      "        title = grid[0].figure.suptitle('%s-band' % lam_text, fontsize=11)\n",
      "        for ind,exp in enumerate(exps):\n",
      "            grid[len(moms)*ind].set_title(exp)"
     ],
     "language": "python",
     "metadata": {},
     "outputs": []
    },
    {
     "cell_type": "code",
     "collapsed": false,
     "input": [
      "AttenDelta = datatypes.DataType('Attenuation Difference', r'$\\Delta A_H$')\n",
      "DiffAttenDelta = datatypes.DataType('Differential Attenuation Difference', r'$\\Delta A_D$')\n",
      "PhiDelta = datatypes.DataType('Differential Phase Difference', r'$\\Delta \\Phi_{DP}$')\n",
      "\n",
      "def calc_differences_algs(data, dt=datatypes.Attenuation, pol='H'):\n",
      "    destMap = {datatypes.Attenuation:AttenDelta, datatypes.DiffAtten:DiffAttenDelta}\n",
      "    ref_field = data.fields.grabData(dt, pol=pol, source='calc')\n",
      "    fields = data.fields.grabAll(dt, filt=lambda f: f.pol == pol and f.source not in ('calc', 'average', 'ts'))\n",
      "\n",
      "    for f in fields:\n",
      "        data.addField(data.fields[f] - ref_field, destMap[dt], pol=f.pol, source=f.source)\n",
      "\n",
      "def calc_differences_sweeps(sweeps):\n",
      "    ref_atten = sweeps[0].fields.grabData(datatypes.Attenuation, pol='H', source='calc')\n",
      "    ref_diff_atten = sweeps[0].fields.grabData(datatypes.DiffAtten, source='calc')\n",
      "    ref_phi = sweeps[0].fields.grabData(datatypes.PhiDP)\n",
      "    for s in sweeps[1:]:\n",
      "        s.addField(s.fields.grabData(datatypes.Attenuation, pol='H', source='calc') - ref_atten, AttenDelta)\n",
      "        s.addField(s.fields.grabData(datatypes.DiffAtten, source='calc') - ref_diff_atten, DiffAttenDelta)\n",
      "        s.addField(s.fields.grabData(datatypes.PhiDP) - ref_phi, PhiDelta)"
     ],
     "language": "python",
     "metadata": {},
     "outputs": []
    },
    {
     "cell_type": "code",
     "collapsed": false,
     "input": [
      "bidi_cmap = plt.get_cmap('Spectral')\n",
      "datatypes.TypePlotInfo[AttenDelta].update(norm=plt.Normalize(-10, 10), cmap=bidi_cmap)\n",
      "datatypes.TypePlotInfo[DiffAttenDelta].update(norm=plt.Normalize(-2, 2), cmap=bidi_cmap)\n",
      "datatypes.TypePlotInfo[PhiDelta].update(norm=plt.Normalize(-50, 50), cmap=bidi_cmap)"
     ],
     "language": "python",
     "metadata": {},
     "outputs": []
    },
    {
     "cell_type": "code",
     "collapsed": false,
     "input": [
      "def run_attenuation_algs(data):\n",
      "    from disser.atten import attenAlgs\n",
      "    attenAlgs.runAll(data, var='H')\n",
      "    attenAlgs.runAll(data, var='diff')"
     ],
     "language": "python",
     "metadata": {},
     "outputs": []
    },
    {
     "cell_type": "code",
     "collapsed": false,
     "input": [
      "def plot_differences(sweeps):\n",
      "    rect=[0, 0, 1, 0.95]\n",
      "    ncols = len(sweeps) - 1\n",
      "    nrows = 3\n",
      "    fig = plt.figure(figsize=(11, 6))\n",
      "\n",
      "    data_list = list()\n",
      "    moments = list()\n",
      "    for s in sweeps[1:]:\n",
      "        data_list.extend([s]*3)\n",
      "        moments.append(s.fields.grab(AttenDelta))\n",
      "        moments.append(s.fields.grab(DiffAttenDelta))\n",
      "        moments.append(s.fields.grab(PhiDelta))\n",
      "\n",
      "    grid = defaults.multipanel_cbar_row(fig, (nrows, ncols), moments, data_list, rect=rect)\n",
      "    return fig, grid\n",
      "\n",
      "def plot_differences_algs(data, dt, pol):\n",
      "    rect=[0, 0, 1, 0.97]\n",
      "    ncols = len(data)\n",
      "\n",
      "    data_list = list()\n",
      "    moments = list()\n",
      "    for d in data:\n",
      "        moms = d.fields.grabAll(dt, filt=lambda f: f.pol == pol and f.source not in ('calc', 'average', 'ts'))\n",
      "        moments.extend(moms)\n",
      "        data_list.extend([d]*len(moms))\n",
      "\n",
      "    nrows = len(moms)\n",
      "    fig = plt.figure(figsize=(11, 6))\n",
      "\n",
      "    with defaults.colorbarLabeller(defaults.algLabels):\n",
      "        grid = defaults.multipanel_cbar_row(fig, (nrows, ncols), moments, data_list, rect=rect)\n",
      "    return fig, grid    "
     ],
     "language": "python",
     "metadata": {},
     "outputs": []
    },
    {
     "cell_type": "code",
     "collapsed": false,
     "input": [
      "for lam_text in wavelengths:\n",
      "    calc_differences_sweeps(data_cache.query(band=lam_text))"
     ],
     "language": "python",
     "metadata": {},
     "outputs": []
    },
    {
     "cell_type": "code",
     "collapsed": false,
     "input": [
      "fig, grid = plot_differences(data_cache.query(band='C'))\n",
      "\n",
      "for ind,exp in enumerate(exps[1:]):\n",
      "    grid[3*ind].set_title('%s - %s' % (exp, exps[0]))"
     ],
     "language": "python",
     "metadata": {},
     "outputs": []
    },
    {
     "cell_type": "code",
     "collapsed": false,
     "input": [
      "for d in data_cache.values():\n",
      "    d.fields.default_keys['source'] = 'ts'\n",
      "    run_attenuation_algs(d)\n",
      "    calc_differences_algs(d)"
     ],
     "language": "python",
     "metadata": {},
     "outputs": []
    },
    {
     "cell_type": "code",
     "collapsed": false,
     "input": [
      "def compare_atten(data, moment, rect):\n",
      "    fig = plt.figure(figsize(11, 6))\n",
      "\n",
      "    ncols = len(data)\n",
      "    fields = data[0].fields.grabAll(moment.type, filt=lambda f: f.pol==moment.pol and f.source not in ('average', 'ts'))\n",
      "    nrows = len(fields)\n",
      "    # Need some way to control the formatting of a datatype into a string\n",
      "    # Maybe using a \"global\" setting and a context maanger\n",
      "    \n",
      "    data_list = list()\n",
      "    for d in data:\n",
      "        data_list.extend([d]*nrows)\n",
      "    moments = fields * ncols\n",
      "    grid = defaults.multipanel_cbar_row(fig, (nrows, ncols), moments, data_list, rect=rect)\n",
      "    return fig, grid"
     ],
     "language": "python",
     "metadata": {},
     "outputs": []
    },
    {
     "cell_type": "code",
     "collapsed": false,
     "input": [
      "for lam_text in wavelengths:\n",
      "    data_list = data_cache.query(band=lam_text)\n",
      "    with datatypes.PlotInfoContext(wavelength=data_list[0].wavelength):\n",
      "        with defaults.colorbarLabeller(defaults.algLabels):\n",
      "            fig,grid = compare_atten(data_list, data_list[0].fields.grab(datatypes.Attenuation, pol='H'),\n",
      "                    rect=[0, 0, 1, 0.97])\n",
      "        title = fig.suptitle('%s-band' % lam_text, fontsize=11)\n",
      "        for ind,exp in enumerate(exps):\n",
      "            grid.axes_row[0][ind].set_title(exp)"
     ],
     "language": "python",
     "metadata": {},
     "outputs": []
    },
    {
     "cell_type": "code",
     "collapsed": false,
     "input": [
      "for lam_text in wavelengths:\n",
      "    data_list = data_cache.query(band=lam_text)\n",
      "    with datatypes.PlotInfoContext(wavelength=data_list[0].wavelength):\n",
      "        fig, grid = plot_differences_algs(data_list, AttenDelta, pol='H')\n",
      "        title = fig.suptitle('%s-band' % lam_text, fontsize=11)\n",
      "        for ind,exp in enumerate(exps):\n",
      "            grid.axes_row[0][ind].set_title(exp)"
     ],
     "language": "python",
     "metadata": {},
     "outputs": []
    }
   ],
   "metadata": {}
  }
 ]
}
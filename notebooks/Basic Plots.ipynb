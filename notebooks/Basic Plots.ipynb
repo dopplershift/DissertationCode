{
 "metadata": {
  "name": "Basic Plots"
 },
 "nbformat": 3,
 "nbformat_minor": 0,
 "worksheets": [
  {
   "cells": [
    {
     "cell_type": "code",
     "collapsed": false,
     "input": [
      "%pylab inline"
     ],
     "language": "python",
     "metadata": {},
     "outputs": [
      {
       "output_type": "stream",
       "stream": "stdout",
       "text": [
        "\n",
        "Welcome to pylab, a matplotlib-based Python environment [backend: module://IPython.zmq.pylab.backend_inline].\n",
        "For more information, type 'help(pylab)'.\n"
       ]
      }
     ],
     "prompt_number": 1
    },
    {
     "cell_type": "code",
     "collapsed": false,
     "input": [
      "import matplotlib.pyplot as plt\n",
      "from disser.io import DataCache\n",
      "from disser import datatypes\n",
      "import disser.plots.defaults as defaults\n",
      "from disser import plots, datatypes, atten\n",
      "plt.rcParams['savefig.dpi'] = 107"
     ],
     "language": "python",
     "metadata": {},
     "outputs": [],
     "prompt_number": 2
    },
    {
     "cell_type": "code",
     "collapsed": false,
     "input": [
      "def sorter(k):\n",
      "    # Map certain experiments to sort to front or end\n",
      "    return k[0], {'Control':'@', 'Combined':'}'}.get(k[1], k[1])\n",
      "\n",
      "def make_key(data):\n",
      "    diff_count = 0\n",
      "    exp_key = 'Control'\n",
      "    if np.abs(data.wavelength.rescale(pq.cm) - np.round(data.wavelength.rescale(pq.cm), 0)) < 0.1:\n",
      "        exp_key = 'Wavelength'\n",
      "        diff_count += 1\n",
      "    if np.isnan(data.runinfo.FixedTemp):\n",
      "        exp_key = 'Temperature'\n",
      "        diff_count += 1\n",
      "    if data.runinfo.CantingWidth > 10.0:\n",
      "        exp_key = 'Canting'\n",
      "        diff_count += 1\n",
      "    if data.runinfo.AxisRatioCalc != 'Brandes':\n",
      "        exp_key = 'Shape'\n",
      "        diff_count += 1\n",
      "    if diff_count > 1:\n",
      "        exp_key = 'Combined'\n",
      "    return data.waveBand, exp_key\n",
      "\n",
      "data_cache = DataCache('ref_runs', make_key, ('band', 'exp'))\n",
      "data_cache.key_sorter = sorter\n",
      "wavelengths,exps = data_cache.sub_keys()"
     ],
     "language": "python",
     "metadata": {},
     "outputs": [
      {
       "output_type": "stream",
       "stream": "stderr",
       "text": [
        "/home/rmay/.local/lib/python2.7/site-packages/quantities/quantity.py:281: RuntimeWarning: invalid value encountered in subtract\n",
        "  return super(Quantity, self).__sub__(other)\n"
       ]
      }
     ],
     "prompt_number": 3
    },
    {
     "cell_type": "heading",
     "level": 2,
     "metadata": {},
     "source": [
      "Basic Data Plots"
     ]
    },
    {
     "cell_type": "code",
     "collapsed": false,
     "input": [
      "from itertools import product\n",
      "figsize(11, 6)\n",
      "for lam_text, exp_text in product(wavelengths, exps):\n",
      "    data = data_cache[lam_text, exp_text]\n",
      "    with datatypes.PlotInfoContext(wavelength=data.wavelength):\n",
      "        moments = [data.fields.grab(moment, pol='H', source='ts')\n",
      "                       for moment in (datatypes.Reflectivity,\n",
      "                           datatypes.DopplerVelocity, datatypes.SpectrumWidth,\n",
      "                           datatypes.ZDR, datatypes.RhoHV, datatypes.KDP,\n",
      "                           datatypes.PhiDP, datatypes.SpecDiffAtten)]\n",
      "\n",
      "        grid = defaults.multipanel_cbar_each(plt.figure(), (2, 4), moments, data, rect=[0, 0, 1, 0.87])\n",
      "        text = 'Band: %s Exp: %s' % (lam_text, exp_text)\n",
      "        title = grid[0].figure.suptitle(text, fontsize=11)"
     ],
     "language": "python",
     "metadata": {},
     "outputs": []
    }
   ],
   "metadata": {}
  }
 ]
}
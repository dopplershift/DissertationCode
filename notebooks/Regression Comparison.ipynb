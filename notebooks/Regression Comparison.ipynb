{
 "metadata": {
  "name": "Regression Comparison"
 },
 "nbformat": 3,
 "nbformat_minor": 0,
 "worksheets": [
  {
   "cells": [
    {
     "cell_type": "heading",
     "level": 2,
     "metadata": {},
     "source": [
      "Set-Up"
     ]
    },
    {
     "cell_type": "code",
     "collapsed": false,
     "input": [
      "%pylab inline\n",
      "figsize(12, 6)\n",
      "plt.rcParams['savefig.dpi'] = 108"
     ],
     "language": "python",
     "metadata": {},
     "outputs": [],
     "prompt_number": 1
    },
    {
     "cell_type": "code",
     "collapsed": false,
     "input": [
      "import numpy as np\n",
      "import matplotlib.pyplot as plt\n",
      "import disser.scatter\n",
      "import disser.units\n",
      "import disser.tools\n",
      "import disser.io\n",
      "import dsd"
     ],
     "language": "python",
     "metadata": {},
     "outputs": [],
     "prompt_number": 2
    },
    {
     "cell_type": "code",
     "collapsed": false,
     "input": [
      "# Model distribution parameters\n",
      "try:\n",
      "    locals().update(np.load('model_dsd.npz'))\n",
      "    qr = pq.Quantity(qr, 'g/m**3')\n",
      "    nr = pq.Quantity(nr, 'm**-3')\n",
      "    print 'Model data loaded from file.'\n",
      "except IOError:\n",
      "#    num = 1000\n",
      "#    ind = 1453433\n",
      "    data = disser.io.ModelData('/home/rmay/radar_sim_git/data/commas_wz_3600.nc')\n",
      "    mask = (data.qr > 5e-4) & (data.nr > 1e2)\n",
      "    qr = data.qr[mask][::100]\n",
      "    qr = qr.rescale('g/m**3')\n",
      "    nr = data.nr[mask][::100]\n",
      "    np.savez('model_dsd.npz', qr=qr, nr=nr)\n",
      "    print 'Model data recalculated.'"
     ],
     "language": "python",
     "metadata": {},
     "outputs": [],
     "prompt_number": 3
    },
    {
     "cell_type": "code",
     "collapsed": false,
     "input": [
      "from collections import namedtuple\n",
      "ScatterInfo = namedtuple('ScatterInfo', 'z zdr kdp atten diff_atten temps')\n",
      "def calc_scatter(qr, nr, dist_func, lam, temp):\n",
      "    try:\n",
      "        len(temp)\n",
      "    except TypeError:\n",
      "        temp = np.array([temp])\n",
      "    d = np.linspace(0.01, 8., 100).reshape(-1, 1) * pq.millimeter\n",
      "    dist = dist_func(d, nr, qr)\n",
      "    z = np.empty((len(temp),) + qr.shape, dtype=d.dtype)\n",
      "    kdp = np.empty_like(z)\n",
      "    zdr = np.empty_like(z)\n",
      "    atten = np.empty_like(z)\n",
      "    diff_atten = np.empty_like(z)\n",
      "    temps = np.empty_like(z)\n",
      "    for i,t in enumerate(temp):\n",
      "        scat = disser.scatter.bulk_scatter(lam, t, dist, d)\n",
      "        kdp[i] = scat.kdp.rescale('deg/km').magnitude\n",
      "        zdr[i] = disser.units.to_linear(scat.zdr)\n",
      "        z[i] = disser.units.to_linear(scat.z)\n",
      "        atten[i] = scat.atten.rescale('dB/km').magnitude\n",
      "        diff_atten[i] = scat.diff_atten.rescale('dB/km').magnitude\n",
      "        temps[i].fill(t)\n",
      "    return ScatterInfo(z.flatten(), zdr.flatten(), kdp.flatten(), atten.flatten(), diff_atten.flatten(), temps.flatten())"
     ],
     "language": "python",
     "metadata": {},
     "outputs": [],
     "prompt_number": 4
    },
    {
     "cell_type": "code",
     "collapsed": false,
     "input": [
      "def fit_plot(x_vars, y_fit, y_truth, scatterVar, ylabel, lam, temp):\n",
      "    tempNorm = plt.Normalize(0, 30)\n",
      "    cmap = plt.get_cmap('YlOrRd')\n",
      "    nrow = ncol = int(np.sqrt(len(x_vars)))\n",
      "    fig,axes = plt.subplots(nrow, ncol, sharey=True, squeeze=False)\n",
      "    fig.set_size_inches(6 * ncol, 3 * nrow)\n",
      "    for (xvar,xlabel),ax in zip(x_vars, axes.flat):\n",
      "        ax.scatter(xvar, y_truth, marker='o', c=scatterVar, alpha=0.1,\n",
      "            label='Raw Calculation', norm=tempNorm, cmap=cmap)\n",
      "        ax.plot(xvar, y_fit, color='lightblue', marker='s', linestyle='none', alpha=0.1, label='Fit')\n",
      "        ax.grid()\n",
      "        ax.legend(loc='upper left')\n",
      "        ax.set_xlabel(xlabel + '(%s)' % xvar.dimensionality.latex)\n",
      "        ax.set_ylabel(ylabel)\n",
      "    fig.tight_layout()\n",
      "    \n",
      "    fig2,ax2 = plt.subplots(1, 1)\n",
      "    ax2.set_title('Wavelength %.2f Temp: %s' % (lam, temp.title()))\n",
      "    fig2.set_size_inches(6 * ncol, 3 * nrow)\n",
      "    ax2.scatter(y_truth, y_fit - y_truth, c=scatterVar, marker='o', alpha=0.1,\n",
      "        norm=tempNorm, cmap=cmap)\n",
      "    ax2.grid()\n",
      "    ax2.set_xlabel('True ' + ylabel)\n",
      "    ax2.set_ylabel('Error')\n",
      "    fig2.tight_layout()\n",
      "    return fig, axes"
     ],
     "language": "python",
     "metadata": {},
     "outputs": [],
     "prompt_number": 5
    },
    {
     "cell_type": "heading",
     "level": 2,
     "metadata": {},
     "source": [
      "Scattering Calculations"
     ]
    },
    {
     "cell_type": "code",
     "collapsed": false,
     "input": [
      "scatter_cache = dict()\n",
      "lams = [10 * pq.cm, 5.55 * pq.cm, 3.21 * pq.cm]\n",
      "for l in lams:\n",
      "    temp = 20\n",
      "    scatter_cache[(l, 'fixed')] = calc_scatter(qr, nr, dsd.gamma_from_moments, l, temp)\n",
      "    temp_range = np.arange(0., 35., 5.)\n",
      "    scatter_cache[(l, 'range')] = calc_scatter(qr, nr, dsd.gamma_from_moments, l, temp_range)"
     ],
     "language": "python",
     "metadata": {},
     "outputs": [],
     "prompt_number": 6
    },
    {
     "cell_type": "heading",
     "level": 1,
     "metadata": {},
     "source": [
      "Attenuation vs. Z"
     ]
    },
    {
     "cell_type": "heading",
     "level": 3,
     "metadata": {},
     "source": [
      "Horizontal"
     ]
    },
    {
     "cell_type": "code",
     "collapsed": false,
     "input": [
      "for (l, temp_type) in sorted(scatter_cache):\n",
      "    scatter_data = scatter_cache[(l, temp_type)]\n",
      "    scatter_vars = [(disser.units.to_dBz(scatter_data.z * disser.units.zUnit), r'$Z_H$')]\n",
      "    atten = scatter_data.atten\n",
      "    weights = (atten * atten).reshape(-1, 1)\n",
      "    coeffs,fit = disser.tools.power_law_fit(scatter_data.z.reshape(-1, 1), atten.reshape(-1, 1), weights)\n",
      "    fit_plot(scatter_vars, fit, atten.squeeze(), scatter_data.temps, r'$A_H$', l, temp_type)"
     ],
     "language": "python",
     "metadata": {},
     "outputs": [],
     "prompt_number": 7
    },
    {
     "cell_type": "heading",
     "level": 3,
     "metadata": {},
     "source": [
      "Vertical"
     ]
    },
    {
     "cell_type": "code",
     "collapsed": false,
     "input": [
      "for (l, temp_type) in sorted(scatter_cache):\n",
      "    scatter_data = scatter_cache[(l, temp_type)]\n",
      "    zv = scatter_data.z / scatter_data.zdr\n",
      "    av = scatter_data.atten - scatter_data.diff_atten\n",
      "    scatter_vars = [(disser.units.to_dBz(zv * disser.units.zUnit), r'$Z_V$')]\n",
      "    weights = (av * av).reshape(-1, 1)\n",
      "    coeffs,fit = disser.tools.power_law_fit(zv.reshape(-1, 1), av.reshape(-1, 1), weights)\n",
      "    fit_plot(scatter_vars, fit, av.squeeze(), scatter_data.temps, r'$A_V$', l, temp_type)"
     ],
     "language": "python",
     "metadata": {},
     "outputs": [],
     "prompt_number": 8
    },
    {
     "cell_type": "heading",
     "level": 2,
     "metadata": {},
     "source": [
      "Attenuation vs. $K_{DP}$"
     ]
    },
    {
     "cell_type": "heading",
     "level": 3,
     "metadata": {},
     "source": [
      "Horizontal"
     ]
    },
    {
     "cell_type": "code",
     "collapsed": false,
     "input": [
      "for (l, temp_type) in sorted(scatter_cache):\n",
      "    scatter_data = scatter_cache[(l, temp_type)]\n",
      "    scatter_vars = [(scatter_data.kdp * pq.deg / pq.km, r'$K_{DP}$')]\n",
      "    atten = scatter_data.atten\n",
      "    weights = (atten * atten).reshape(-1, 1)\n",
      "    coeffs,fit = disser.tools.linear_regression(scatter_data.kdp.reshape(-1, 1), atten.reshape(-1, 1), intercept=False)\n",
      "    fit_plot(scatter_vars, fit, atten.squeeze(), scatter_data.temps, r'$A_H$', l, temp_type)"
     ],
     "language": "python",
     "metadata": {},
     "outputs": [],
     "prompt_number": "*"
    },
    {
     "cell_type": "heading",
     "level": 3,
     "metadata": {},
     "source": [
      "Vertical"
     ]
    },
    {
     "cell_type": "code",
     "collapsed": false,
     "input": [
      "for (l, temp_type) in sorted(scatter_cache):\n",
      "    scatter_data = scatter_cache[(l, temp_type)]\n",
      "    scatter_vars = [(scatter_data.kdp * pq.deg / pq.km, r'$K_{DP}$')]\n",
      "    zv = scatter_data.z / scatter_data.zdr\n",
      "    av = scatter_data.atten - scatter_data.diff_atten\n",
      "    weights = (av * av).reshape(-1, 1)\n",
      "    coeffs,fit = disser.tools.linear_regression(scatter_data.kdp.reshape(-1, 1), av.reshape(-1, 1), intercept=False)\n",
      "    fit_plot(scatter_vars, fit, av.squeeze(), scatter_data.temps, r'$A_V$', l, temp_type)"
     ],
     "language": "python",
     "metadata": {},
     "outputs": [],
     "prompt_number": "*"
    },
    {
     "cell_type": "heading",
     "level": 2,
     "metadata": {},
     "source": [
      "Differential"
     ]
    },
    {
     "cell_type": "code",
     "collapsed": false,
     "input": [
      "for (l, temp_type) in sorted(scatter_cache):\n",
      "    scatter_data = scatter_cache[(l, temp_type)]\n",
      "    scatter_vars = [(scatter_data.kdp * pq.deg / pq.km, r'$K_{DP}$')]\n",
      "    diff_atten = scatter_data.diff_atten\n",
      "    weights = (diff_atten * diff_atten).reshape(-1, 1)\n",
      "    coeffs,fit = disser.tools.linear_regression(scatter_data.kdp.reshape(-1, 1), diff_atten.reshape(-1, 1), weights=weights, intercept=False)\n",
      "    fit_plot(scatter_vars, fit, diff_atten.squeeze(), scatter_data.temps, r'$A_D$', l, temp_type)"
     ],
     "language": "python",
     "metadata": {},
     "outputs": [],
     "prompt_number": 11
    },
    {
     "cell_type": "heading",
     "level": 2,
     "metadata": {},
     "source": [
      "Fully Self Consistent with Contraints"
     ]
    },
    {
     "cell_type": "heading",
     "level": 3,
     "metadata": {},
     "source": [
      "Attenuation Curve Fit"
     ]
    },
    {
     "cell_type": "code",
     "collapsed": false,
     "input": [
      "for (l, temp_type) in sorted(scatter_cache):\n",
      "    scatter_data = scatter_cache[(l, temp_type)]\n",
      "    scatter_vars = [(disser.units.to_dBz(scatter_data.z * disser.units.zUnit), r'$Z_H$'),\n",
      "                    (disser.units.to_dB(scatter_data.zdr * pq.dimensionless), r'$Z_{DR}$'),\n",
      "                    (scatter_data.kdp * pq.deg / pq.km, r'$K_{DP}$'),\n",
      "                    (scatter_data.atten * disser.units.dB / pq.km, r'$A_H$')]\n",
      "    atten = scatter_data.atten\n",
      "    weights = (atten * atten).reshape(-1, 1)\n",
      "    coeffs,fit = disser.tools.power_law_fit(np.array([scatter_data.z, scatter_data.zdr, scatter_data.kdp]).T,\n",
      "        atten.reshape(-1, 1), weights)\n",
      "    fit_plot(scatter_vars, fit, atten.squeeze(), scatter_data.temps, r'$A_H$', l, temp_type)"
     ],
     "language": "python",
     "metadata": {},
     "outputs": [],
     "prompt_number": 12
    },
    {
     "cell_type": "heading",
     "level": 3,
     "metadata": {},
     "source": [
      "Differential Attenuation Curves"
     ]
    },
    {
     "cell_type": "code",
     "collapsed": false,
     "input": [
      "for (l, temp_type) in sorted(scatter_cache):\n",
      "    scatter_data = scatter_cache[(l, temp_type)]\n",
      "    scatter_vars = [(disser.units.to_dBz(scatter_data.z * disser.units.zUnit), r'$Z_H$'),\n",
      "                    (disser.units.to_dB(scatter_data.zdr * pq.dimensionless), r'$Z_{DR}$'),\n",
      "                    (scatter_data.kdp * pq.deg / pq.km, r'$K_{DP}$'),\n",
      "                    (scatter_data.diff_atten * disser.units.dB / pq.km, r'$A_D$')]\n",
      "    diff_atten = scatter_data.diff_atten\n",
      "    weights = (diff_atten * diff_atten).reshape(-1, 1)\n",
      "    coeffs,fit = disser.tools.power_law_fit(np.array([scatter_data.z, scatter_data.zdr, scatter_data.kdp]).T,\n",
      "        diff_atten.reshape(-1, 1), weights)\n",
      "    fit_plot(scatter_vars, fit, diff_atten.squeeze(), scatter_data.temps, r'$A_D$', l, temp_type)"
     ],
     "language": "python",
     "metadata": {},
     "outputs": [],
     "prompt_number": 13
    },
    {
     "cell_type": "code",
     "collapsed": false,
     "input": [],
     "language": "python",
     "metadata": {},
     "outputs": []
    }
   ],
   "metadata": {}
  }
 ]
}
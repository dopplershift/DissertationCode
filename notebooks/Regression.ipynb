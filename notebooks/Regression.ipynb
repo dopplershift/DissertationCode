{
 "metadata": {
  "name": "Regression"
 },
 "nbformat": 3,
 "nbformat_minor": 0,
 "worksheets": [
  {
   "cells": [
    {
     "cell_type": "code",
     "collapsed": false,
     "input": [
      "%pylab inline\n",
      "figsize(12, 9)"
     ],
     "language": "python",
     "metadata": {},
     "outputs": [
      {
       "output_type": "stream",
       "stream": "stdout",
       "text": [
        "\n",
        "Welcome to pylab, a matplotlib-based Python environment [backend: module://IPython.zmq.pylab.backend_inline].\n",
        "For more information, type 'help(pylab)'.\n"
       ]
      }
     ],
     "prompt_number": 6
    },
    {
     "cell_type": "code",
     "collapsed": false,
     "input": [
      "import numpy as np\n",
      "import matplotlib.pyplot as plt\n",
      "import scipy.optimize as so\n",
      "import scipy.linalg as sl\n",
      "import disser.scatter\n",
      "import disser.units"
     ],
     "language": "python",
     "metadata": {},
     "outputs": [],
     "prompt_number": 1
    },
    {
     "cell_type": "code",
     "collapsed": false,
     "input": [
      "x = np.empty((100, 4))\n",
      "x[:, 0] = np.linspace(0.01, 5, 100)\n",
      "x[:, 1] = np.linspace(0.01, 2.5, 100)\n",
      "x[:, 2] = np.linspace(0.01, 10, 100)\n",
      "x[:, 3] = np.linspace(0.01, 1, 100)\n",
      "pows = np.array([0.1, 0.3, 0.02, 2.])\n",
      "y = 2 * np.prod(x ** pows, axis=-1)"
     ],
     "language": "python",
     "metadata": {},
     "outputs": [],
     "prompt_number": 45
    },
    {
     "cell_type": "code",
     "collapsed": false,
     "input": [
      "def f(params):\n",
      "    a, b, c, d, e = params\n",
      "    return np.log(y) - (np.log(a) + b * np.log(x[:, 0]) + c * np.log(x[:, 1]) + d * np.log(x[:, 2]) + e * np.log(x[:, 3]))\n",
      "\n",
      "def df(params):\n",
      "    return np.vstack((-np.ones_like(x1), -np.log(x[:, 0]), -np.log(x[:, 1]), -np.log(x[:, 2]), -np.log(x[:, 3])))\n",
      "    \n",
      "so.leastsq(f, np.array([1., 1., 1., 1., 1.]), Dfun=df, col_deriv=True)"
     ],
     "language": "python",
     "metadata": {},
     "outputs": [
      {
       "output_type": "pyout",
       "prompt_number": 78,
       "text": [
        "(array([ 1.99999998,  0.1       ,  0.3       ,  0.02      ,  2.        ]), 2)"
       ]
      }
     ],
     "prompt_number": 78
    },
    {
     "cell_type": "code",
     "collapsed": false,
     "input": [
      "def curve(xdata, a, b, c, d, e):\n",
      "    return a * x[:, 0] ** b * x[:, 1] ** c * x[:, 2] ** d * x[:, 3] ** e\n",
      "so.curve_fit(curve, x, y)"
     ],
     "language": "python",
     "metadata": {},
     "outputs": [
      {
       "output_type": "pyout",
       "prompt_number": 46,
       "text": [
        "(array([ 116.73252697,  -78.51520831,  213.56216612,  -78.69324717,\n",
        "        -52.31418283]),\n",
        " inf)"
       ]
      }
     ],
     "prompt_number": 46
    },
    {
     "cell_type": "code",
     "collapsed": false,
     "input": [
      "xc = np.concatenate((np.ones_like(x[:,0])[:, None], np.log(x)), 1)\n",
      "sl.lstsq(xc, np.log(y))"
     ],
     "language": "python",
     "metadata": {},
     "outputs": [
      {
       "output_type": "pyout",
       "prompt_number": 83,
       "text": [
        "(array([ 0.69314718,  0.1       ,  0.3       ,  0.02      ,  2.        ]),\n",
        " 5.3186227132121884e-30,\n",
        " 5,\n",
        " array([  2.24917386e+01,   1.72709398e+01,   6.71148480e-01,\n",
        "         8.99909121e-02,   2.10341053e-03]))"
       ]
      }
     ],
     "prompt_number": 83
    },
    {
     "cell_type": "code",
     "collapsed": false,
     "input": [
      "np.log(2)"
     ],
     "language": "python",
     "metadata": {},
     "outputs": [
      {
       "output_type": "pyout",
       "prompt_number": 84,
       "text": [
        "0.69314718055994529"
       ]
      }
     ],
     "prompt_number": 84
    },
    {
     "cell_type": "code",
     "collapsed": false,
     "input": [
      "def scatt_coeff_fit(qr, nr, dist_func, lam, temp):\n",
      "    try:\n",
      "        len(temp):\n",
      "    except TypeError:\n",
      "        temp = np.array([temp])\n",
      "    d = np.linspace(0.01, 8., 100) * pq.millimeter\n",
      "    dist = dist_func(d, nr, qr)\n",
      "    z = np.empty((len(temp),) + qr.shape, dtype=d.dtype)\n",
      "    kdp = np.empty_like(z)\n",
      "    zdr = np.empty_like(z)\n",
      "    atten = np.empty_like(z)\n",
      "    for i,t in enumerate(temp):\n",
      "        scat = disser.scatter.bulk_scatter(lam, t, dist, d)\n",
      "        kdp[i] = scat.kdp\n",
      "        zdr[i] = disser.units.to_linear(scat.zdr)\n",
      "        z[i] = disser.units.to_linear(scat.z)\n",
      "        atten[i] = scatt.atten\n",
      "    x = np.concatenate((np.ones_like(z).reshape(-1, 1),\n",
      "                        z.reshape(-1, 1),\n",
      "                        zdr.reshape(-1, 1),\n",
      "                        kdp.reshape(-1, 1)), 1)\n",
      "    sl.lstsq(np.log(x), np.log(atten))"
     ],
     "language": "python",
     "metadata": {},
     "outputs": []
    }
   ],
   "metadata": {}
  }
 ]
}
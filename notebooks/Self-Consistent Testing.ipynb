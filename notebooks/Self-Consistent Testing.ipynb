{
 "metadata": {
  "name": "Self-Consistent Testing"
 },
 "nbformat": 3,
 "nbformat_minor": 0,
 "worksheets": [
  {
   "cells": [
    {
     "cell_type": "heading",
     "level": 2,
     "metadata": {},
     "source": [
      "Set-Up"
     ]
    },
    {
     "cell_type": "code",
     "collapsed": false,
     "input": [
      "import disser.plots.defaults as defaults\n",
      "from disser import plots, datatypes, atten"
     ],
     "language": "python",
     "metadata": {},
     "outputs": []
    },
    {
     "cell_type": "code",
     "collapsed": false,
     "input": [
      "%pylab inline\n",
      "import matplotlib.pyplot as plt\n",
      "plt.rcParams['savefig.dpi'] = 107"
     ],
     "language": "python",
     "metadata": {},
     "outputs": []
    },
    {
     "cell_type": "heading",
     "level": 2,
     "metadata": {},
     "source": [
      "Read data"
     ]
    },
    {
     "cell_type": "code",
     "collapsed": false,
     "input": [
      "#dreload(disser.io)"
     ],
     "language": "python",
     "metadata": {},
     "outputs": []
    },
    {
     "cell_type": "code",
     "collapsed": false,
     "input": [
      "from disser.io import DataCache\n",
      "def sorter(k):\n",
      "    # Map certain experiments to sort to front or end\n",
      "    return k[0], {'Control':'@', 'Combined':'}'}.get(k[1], k[1])\n",
      "\n",
      "def make_key(data):\n",
      "    diff_count = 0\n",
      "    exp_key = 'Control'\n",
      "    if np.abs(data.wavelength.rescale(pq.cm) - np.round(data.wavelength.rescale(pq.cm), 0)) < 0.1:\n",
      "        exp_key = 'Wavelength'\n",
      "        diff_count += 1\n",
      "    if np.isnan(data.runinfo.FixedTemp):\n",
      "        exp_key = 'Temperature'\n",
      "        diff_count += 1\n",
      "    if data.runinfo.CantingWidth > 10.0:\n",
      "        exp_key = 'Canting'\n",
      "        diff_count += 1\n",
      "    if data.runinfo.AxisRatioCalc != 'Brandes':\n",
      "        exp_key = 'Shape'\n",
      "        diff_count += 1\n",
      "    if diff_count > 1:\n",
      "        exp_key = 'Combined'\n",
      "    return data.waveBand, exp_key\n",
      "\n",
      "data_cache = DataCache('ref_runs', make_key, ('band', 'exp'))\n",
      "data_cache.key_sorter = sorter\n",
      "wavelengths,exps = data_cache.sub_keys()"
     ],
     "language": "python",
     "metadata": {},
     "outputs": []
    },
    {
     "cell_type": "code",
     "collapsed": false,
     "input": [
      "AttenDelta = datatypes.DataType('Attenuation Difference', r'$\\Delta A$')\n",
      "DiffAttenDelta = datatypes.DataType('Differential Attenuation Difference', r'$\\Delta A_D$')\n",
      "PhiDelta = datatypes.DataType('Differential Phase Difference', r'$\\Delta \\Phi_{DP}$')"
     ],
     "language": "python",
     "metadata": {},
     "outputs": []
    },
    {
     "cell_type": "code",
     "collapsed": false,
     "input": [
      "#bidi_cmap = plt.get_cmap('Spectral')\n",
      "bidi_cmap = plots.get_cmap('Carbone42')\n",
      "datatypes.TypePlotInfo[AttenDelta].update(norm=plt.Normalize(-10, 10), cmap=bidi_cmap)\n",
      "datatypes.TypePlotInfo[DiffAttenDelta].update(norm=plt.Normalize(-2, 2), cmap=bidi_cmap)\n",
      "datatypes.TypePlotInfo[PhiDelta].update(norm=plt.Normalize(-50, 50), cmap=bidi_cmap)"
     ],
     "language": "python",
     "metadata": {},
     "outputs": []
    },
    {
     "cell_type": "heading",
     "level": 2,
     "metadata": {},
     "source": [
      "Attenuation Algorithm Results"
     ]
    },
    {
     "cell_type": "code",
     "collapsed": false,
     "input": [
      "def run_attenuation_algs(data):\n",
      "    from disser.atten import attenAlgs\n",
      "    #attenAlgs.runAll(data, var='H')\n",
      "    #attenAlgs.runAll(data, var='diff')\n",
      "    attenAlgs.run('SC', data, var='H')\n",
      "    attenAlgs.run('SC', data, var='diff')"
     ],
     "language": "python",
     "metadata": {},
     "outputs": []
    },
    {
     "cell_type": "code",
     "collapsed": false,
     "input": [
      "for d in data_cache.values():\n",
      "    d.fields.default_keys['source'] = 'ts'\n",
      "    run_attenuation_algs(d)"
     ],
     "language": "python",
     "metadata": {},
     "outputs": []
    },
    {
     "cell_type": "code",
     "collapsed": false,
     "input": [
      "def compare_atten(data, moment, rect):\n",
      "    fig = plt.figure(figsize=(8, 6))\n",
      "\n",
      "    ncols = len(data)\n",
      "    fields = data[0].fields.grabAll(moment.type, filt=lambda f: f.pol==moment.pol and f.source not in ('average', 'ts'))\n",
      "    nrows = len(fields)\n",
      "    \n",
      "    data_list = list()\n",
      "    for d in data:\n",
      "        data_list.extend([d]*nrows)\n",
      "    moments = fields * ncols\n",
      "    grid = defaults.multipanel_cbar_row(fig, (nrows, ncols), moments, data_list, rect=rect)\n",
      "    return fig, grid"
     ],
     "language": "python",
     "metadata": {},
     "outputs": []
    },
    {
     "cell_type": "code",
     "collapsed": false,
     "input": [
      "for lam_text in wavelengths:\n",
      "    data_list = data_cache.query(band=lam_text)\n",
      "    with datatypes.PlotInfoContext(wavelength=data_list[0].wavelength):\n",
      "        with defaults.colorbarLabeller(defaults.algLabels):\n",
      "            for pol,mom in [('H', datatypes.Attenuation), ('diff', datatypes.DiffAtten)]:\n",
      "                fig,grid = compare_atten(data_list, data_list[0].fields.grab(mom, pol=pol),\n",
      "                    rect=[0, 0, 1, 0.91])\n",
      "                fig.suptitle('%s-band %s' % (lam_text, pol), fontsize=11)\n",
      "                for ind,exp in enumerate(exps):\n",
      "                    grid.axes_row[0][ind].set_title(exp)"
     ],
     "language": "python",
     "metadata": {},
     "outputs": []
    },
    {
     "cell_type": "heading",
     "level": 2,
     "metadata": {},
     "source": [
      "Algorithm Difference Between Runs"
     ]
    },
    {
     "cell_type": "code",
     "collapsed": false,
     "input": [
      "def calc_differences_algs(data, dt=datatypes.Attenuation, pol='H'):\n",
      "    destMap = {datatypes.Attenuation:AttenDelta, datatypes.DiffAtten:DiffAttenDelta}\n",
      "    ref_field = data.fields.grabData(dt, pol=pol, source='calc')\n",
      "    fields = data.fields.grabAll(dt, filt=lambda f: f.pol == pol and f.source not in ('calc', 'average', 'ts'))\n",
      "\n",
      "    for f in fields:\n",
      "        data.addField(data.fields[f] - ref_field, destMap[dt], pol=f.pol, source=f.source)"
     ],
     "language": "python",
     "metadata": {},
     "outputs": []
    },
    {
     "cell_type": "code",
     "collapsed": false,
     "input": [
      "for d in data_cache.values():\n",
      "    calc_differences_algs(d, dt=datatypes.Attenuation, pol='H')\n",
      "    calc_differences_algs(d, dt=datatypes.DiffAtten, pol=None)"
     ],
     "language": "python",
     "metadata": {},
     "outputs": []
    },
    {
     "cell_type": "code",
     "collapsed": false,
     "input": [
      "def plot_differences_algs(data, dt, pol):\n",
      "    rect=[0, 0, 1, 0.97]\n",
      "    ncols = len(data)\n",
      "\n",
      "    data_list = list()\n",
      "    moments = list()\n",
      "    for d in data:\n",
      "        moms = d.fields.grabAll(dt, filt=lambda f: f.pol == pol and f.source not in ('calc', 'average', 'ts', 'sweep'))\n",
      "        moments.extend(moms)\n",
      "        data_list.extend([d]*len(moms))\n",
      "\n",
      "    nrows = len(moms)\n",
      "    fig = plt.figure(figsize=(8, 6))\n",
      "\n",
      "    with defaults.colorbarLabeller(defaults.algLabels):\n",
      "        grid = defaults.multipanel_cbar_row(fig, (nrows, ncols), moments, data_list, rect=rect)\n",
      "    return fig, grid    "
     ],
     "language": "python",
     "metadata": {},
     "outputs": []
    },
    {
     "cell_type": "code",
     "collapsed": false,
     "input": [
      "for lam_text in wavelengths:\n",
      "    data_list = data_cache.query(band=lam_text)\n",
      "    with datatypes.PlotInfoContext(wavelength=data_list[0].wavelength):\n",
      "        for pol,mom in [('H', AttenDelta), (None, DiffAttenDelta)]:\n",
      "            fig, grid = plot_differences_algs(data_list, mom, pol=pol)\n",
      "            polStr = 'Diff' if pol is None else pol\n",
      "            title = fig.suptitle('%s-band %s' % (lam_text, polStr), fontsize=11)\n",
      "            for ind,exp in enumerate(exps):\n",
      "                grid.axes_row[0][ind].set_title(exp)"
     ],
     "language": "python",
     "metadata": {},
     "outputs": []
    },
    {
     "cell_type": "code",
     "collapsed": false,
     "input": [
      "d = data_cache[('C', 'Control')]"
     ],
     "language": "python",
     "metadata": {},
     "outputs": []
    },
    {
     "cell_type": "code",
     "collapsed": false,
     "input": [
      "atten = d.fields.grabData(datatypes.Attenuation, pol='H', source='SC')\n",
      "spec_atten = np.gradient(atten, 1, d.gate_length)[1].rescale('dB/km')\n",
      "true_atten = d.fields.grabData(datatypes.Attenuation, pol='H', source='calc')\n",
      "true_spec_atten = d.fields.grabData(datatypes.SpecAttenuation, pol='H', source='calc')\n",
      "z = d.fields.grabData(datatypes.Reflectivity, pol='H')\n",
      "phi = d.fields.grabData(datatypes.PhiDP, pol='H')\n",
      "phi_avg = d.fields.grabData(datatypes.PhiDP, source='average')\n",
      "snrv = d.fields.grabData(datatypes.SNR, pol='V')\n",
      "snrh = d.fields.grabData(datatypes.SNR, pol='H')\n",
      "rho = d.fields.grabData(datatypes.RhoHV)"
     ],
     "language": "python",
     "metadata": {},
     "outputs": []
    },
    {
     "cell_type": "code",
     "collapsed": false,
     "input": [
      "from disser.atten.algorithms import running_mean, tuned_zphi\n",
      "from disser.units import dBz, dB\n",
      "def self_consistent(snr, rho, z, phi, b, gamma, dr, phi0):\n",
      "    z = z.rescale(dBz).magnitude\n",
      "    snr = snr.rescale(dB).magnitude\n",
      "    phi = phi.rescale(pq.degree).magnitude\n",
      "    dr = dr.rescale(pq.kilometer).magnitude\n",
      "    phi0 = phi0.rescale(pq.degree).magnitude\n",
      "    atten = np.zeros_like(z)\n",
      "    for ray in range(atten.shape[0]):\n",
      "        mask = (~np.isnan(phi[ray])) & (snr[ray] > 0)\n",
      "        if not np.any(mask):\n",
      "            continue\n",
      "        smooth_phi = running_mean(phi[ray, mask], int(1.5 / dr))\n",
      "        delta_phi = smooth_phi[-1] - phi0\n",
      "        try:\n",
      "            atten[ray, mask] = tuned_zphi(z[ray, mask],\n",
      "                    running_mean(phi[ray, mask], int(1.0 / dr)), dr, delta_phi, b, gamma)\n",
      "            atten[ray] = (2 * dr * atten[ray]).cumsum()\n",
      "        except RuntimeError:\n",
      "            print \"Minimizer failed on ray: %d\" % ray\n",
      "            atten[ray] = np.nan\n",
      "    atten[snr < 0.0] = np.nan\n",
      "    atten[np.isnan(snr)] = np.nan\n",
      "    return atten * dB"
     ],
     "language": "python",
     "metadata": {},
     "outputs": []
    },
    {
     "cell_type": "code",
     "collapsed": false,
     "input": [
      "#ind = 150 # Good example\n",
      "#ind = 140\n",
      "ind = 142 # magic bad radial\n",
      "rng = (d.gate_length * np.arange(atten.shape[-1])).rescale('km')\n",
      "\n",
      "from disser.atten.algorithms import zphi_coeffs\n",
      "b,gamma = zphi_coeffs[d.waveBand, 'H']\n",
      "test_sa = self_consistent(snrh[ind][None, :], rho[ind][None, :], z[ind][None, :],\n",
      "    phi[ind][None, :], b, gamma, d.gate_length, d.phi_offset)\n",
      "#test_sa = self_consistent(snrh, z, phi, b, gamma, d.gate_length)[ind]\n",
      "\n",
      "fig, axes = plt.subplots(2, 2, sharex=True, figsize=(12, 9))\n",
      "axes[0,0].plot(rng, atten[ind], 'b-', alpha=0.5, label='SC (%s)' % atten.dimensionality)\n",
      "axes[0,0].plot(rng, true_atten[ind], 'k-', alpha=0.5, label='Truth (%s)' % true_atten.dimensionality)\n",
      "axes[0,0].plot(rng, test_sa.squeeze(), 'rx', alpha=0.2, label='Test SC (%s)' % test_sa.dimensionality)\n",
      "axes[0,0].legend()\n",
      "axes[0,0].grid(True)\n",
      "axes[0,0].set_xlabel('Range (%s)' % rng.dimensionality)\n",
      "axes[0,0].set_ylabel('Attenuation (%s)' % atten.dimensionality)\n",
      "ax2 = plt.twinx(axes[0,0])\n",
      "ax2.plot(rng, spec_atten[ind], 'b-')\n",
      "ax2.plot(rng, true_spec_atten[ind], 'k-')\n",
      "ax2.set_ylabel('Specific Attenuation (%s)' % spec_atten.dimensionality)\n",
      "axes[0,0].set_title(u'Azimuth: %.1f\\N{DEGREE SIGN}' % d.az[ind])\n",
      "\n",
      "axes[1,0].plot(rng, z[ind], 'g-')\n",
      "axes[1,0].grid(True)\n",
      "axes[1,0].set_ylabel('Reflectivity (%s)' % z.dimensionality)\n",
      "axes12 = plt.twinx(axes[1,0])\n",
      "rho_plot = np.ma.array(rho)\n",
      "rho_plot[np.isnan(snrh)] = np.ma.masked\n",
      "rho_plot[snrh < 3.] = np.ma.masked\n",
      "axes12.plot(rng, rho_plot[ind], 'b-')\n",
      "axes12.set_ylabel(r'$\\rho_{HV}$')\n",
      "\n",
      "axes[0,1].plot(rng, phi[ind], 'b-')\n",
      "axes[0,1].plot(rng, phi_avg[ind], 'r-')\n",
      "axes[0,1].set_ylim(0, 360)\n",
      "axes[0,1].grid(True)\n",
      "axes[0,1].yaxis.set_ticks_position('right')\n",
      "axes[0,1].set_title(r'$\\phi_{DP}$ (%s)' % phi.dimensionality)\n",
      "\n",
      "axes[1,1].plot(rng, snrh[ind], 'k-')\n",
      "axes[1,1].plot(rng, snrv[ind], 'r-')\n",
      "axes[1,1].grid(True)\n",
      "axes[1,1].yaxis.set_ticks_position('right')\n",
      "axes[1,1].set_title('SNR (%s)' % snrh.dimensionality);"
     ],
     "language": "python",
     "metadata": {},
     "outputs": []
    },
    {
     "cell_type": "code",
     "collapsed": false,
     "input": [
      "ind = 140\n",
      "colors = dict(SC='g', calc='k', average='r')\n",
      "fig = plt.figure()\n",
      "ax = fig.add_subplot(1, 1, 1)\n",
      "ax2 = plt.twinx(ax)\n",
      "for attField in d.fields.grabAll(datatypes.Attenuation, filt=lambda f: f.pol == 'H' and f.source != 'ts'):\n",
      "    atten = d.fields[attField]\n",
      "\n",
      "    rng = (d.gate_length * np.arange(atten.shape[-1])).rescale('km')\n",
      "    ax.plot(rng, atten[ind], '%s-' % colors[attField.source],\n",
      "        alpha=0.5, label='%s (%s)' % (attField.source, atten.dimensionality))\n",
      "ax.grid(True)\n",
      "ax.set_xlabel('Range (%s)' % rng.dimensionality)\n",
      "ax.set_ylabel('Attenuation (%s)' % atten.dimensionality)\n",
      "ax.legend()\n",
      "ax.set_ylim(0, None)\n",
      "ax.set_title(u'Azimuth: %.1f\\N{DEGREE SIGN}' % d.az[ind]);\n",
      "\n",
      "for sattField in d.fields.grabAll(datatypes.SpecAttenuation, filt=lambda f: f.pol == 'H' and f.source != 'ts'):\n",
      "    spec_atten = d.fields[sattField]\n",
      "    ax2.plot(rng, spec_atten[ind], '%s-' % colors[sattField.source])\n",
      "ax2.set_ylabel('Specific Attenuation (%s)' % spec_atten.dimensionality)\n"
     ],
     "language": "python",
     "metadata": {},
     "outputs": []
    },
    {
     "cell_type": "code",
     "collapsed": false,
     "input": [],
     "language": "python",
     "metadata": {},
     "outputs": []
    }
   ],
   "metadata": {}
  }
 ]
}
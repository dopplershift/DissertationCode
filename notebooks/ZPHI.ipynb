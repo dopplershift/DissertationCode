{
 "metadata": {
  "name": "ZPHI"
 },
 "nbformat": 3,
 "nbformat_minor": 0,
 "worksheets": [
  {
   "cells": [
    {
     "cell_type": "code",
     "collapsed": false,
     "input": [
      "import numpy as np\n",
      "import scipy.integrate as si\n",
      "import matplotlib.pyplot as plt"
     ],
     "language": "python",
     "metadata": {},
     "outputs": [],
     "prompt_number": 2
    },
    {
     "cell_type": "code",
     "collapsed": false,
     "input": [
      "%pylab inline"
     ],
     "language": "python",
     "metadata": {},
     "outputs": [
      {
       "output_type": "stream",
       "stream": "stdout",
       "text": [
        "\n",
        "Welcome to pylab, a matplotlib-based Python environment [backend: module://IPython.zmq.pylab.backend_inline].\n",
        "For more information, type 'help(pylab)'.\n"
       ]
      }
     ],
     "prompt_number": 3
    },
    {
     "cell_type": "markdown",
     "metadata": {},
     "source": [
      "Is there a better way to implement this algorithm numerically? It seems really easy for it to go crazy. Ideas:\n",
      "\n",
      "* Log transform\n",
      "* Re-arrange terms more\n",
      "* Try to see what terms get bad. Could be attenuation calculation or huge phidp causing problems"
     ]
    },
    {
     "cell_type": "code",
     "collapsed": false,
     "input": [
      "def acc_sum(arr, axis):\n",
      "    new_arr = np.empty_like(arr)\n",
      "    total = 0.\n",
      "    err = 0.\n",
      "    for i,a in enumerate(arr):\n",
      "        a -= err\n",
      "        t = total + a\n",
      "        err = (t - total) - a\n",
      "        total = t\n",
      "        new_arr[i] = total\n",
      "    return new_arr"
     ],
     "language": "python",
     "metadata": {},
     "outputs": [],
     "prompt_number": 189
    },
    {
     "cell_type": "code",
     "collapsed": false,
     "input": [
      "def cumtrapz(y, dx, initial):\n",
      "    slice1 = [slice(None, -1)]\n",
      "    slice2 = [slice(1, None)]\n",
      "    return np.r_[initial, acc_sum((dx / 2.) * (y[slice1] + y[slice2]), -1)]"
     ],
     "language": "python",
     "metadata": {},
     "outputs": [],
     "prompt_number": 187
    },
    {
     "cell_type": "code",
     "collapsed": false,
     "input": [
      "def new_sum(arr):\n",
      "    if(arr.size <= 4):\n",
      "        return arr.sum()\n",
      "    else:\n",
      "        half = arr.size // 2\n",
      "        return new_sum(arr[:half]) + new_sum(arr[half:])"
     ],
     "language": "python",
     "metadata": {},
     "outputs": [],
     "prompt_number": 157
    },
    {
     "cell_type": "code",
     "collapsed": false,
     "input": [
      "def new_sum2(arr):\n",
      "    total = 0.\n",
      "    err = 0.\n",
      "    for a in arr:\n",
      "        a -= err\n",
      "        t = total + a\n",
      "        err = (t - total) - a\n",
      "        total = t\n",
      "    return total"
     ],
     "language": "python",
     "metadata": {},
     "outputs": [],
     "prompt_number": 164
    },
    {
     "cell_type": "code",
     "collapsed": false,
     "input": [
      "def trapz(y, dx):\n",
      "    slice1 = [slice(None, -1)]\n",
      "    slice2 = [slice(1, None)]\n",
      "    return new_sum2((dx / 2.) * (y[slice1] + y[slice2]))"
     ],
     "language": "python",
     "metadata": {},
     "outputs": [],
     "prompt_number": 217
    },
    {
     "cell_type": "code",
     "collapsed": false,
     "input": [
      "print cumtrapz(10**(0.1 * b * z), dx=delta_r, initial=0) - si.cumtrapz(10**(0.1 * b * z), dx=delta_r, initial=0)"
     ],
     "language": "python",
     "metadata": {},
     "outputs": [
      {
       "output_type": "stream",
       "stream": "stdout",
       "text": [
        "[  0.00000000e+00   0.00000000e+00   0.00000000e+00   0.00000000e+00\n",
        "   0.00000000e+00   0.00000000e+00  -9.09494702e-13   0.00000000e+00\n",
        "   0.00000000e+00   0.00000000e+00   0.00000000e+00   1.81898940e-12\n",
        "   1.81898940e-12   1.81898940e-12   1.81898940e-12   1.81898940e-12\n",
        "   1.81898940e-12   3.63797881e-12   3.63797881e-12   3.63797881e-12\n",
        "   3.63797881e-12   3.63797881e-12   3.63797881e-12   3.63797881e-12\n",
        "   3.63797881e-12   3.63797881e-12   3.63797881e-12   3.63797881e-12\n",
        "   7.27595761e-12   7.27595761e-12   7.27595761e-12   7.27595761e-12\n",
        "   7.27595761e-12   7.27595761e-12   7.27595761e-12   7.27595761e-12\n",
        "   7.27595761e-12   7.27595761e-12   7.27595761e-12   7.27595761e-12\n",
        "   7.27595761e-12   0.00000000e+00   7.27595761e-12   0.00000000e+00\n",
        "   7.27595761e-12   0.00000000e+00   0.00000000e+00   0.00000000e+00\n",
        "   0.00000000e+00   0.00000000e+00  -7.27595761e-12   0.00000000e+00\n",
        "   0.00000000e+00  -7.27595761e-12  -7.27595761e-12   0.00000000e+00\n",
        "   0.00000000e+00   0.00000000e+00   0.00000000e+00   0.00000000e+00\n",
        "   7.27595761e-12   7.27595761e-12   7.27595761e-12   7.27595761e-12\n",
        "   1.45519152e-11   1.45519152e-11   1.45519152e-11   7.27595761e-12\n",
        "   7.27595761e-12   7.27595761e-12   1.45519152e-11   1.45519152e-11\n",
        "   1.45519152e-11   1.45519152e-11   0.00000000e+00   0.00000000e+00\n",
        "   0.00000000e+00   0.00000000e+00   0.00000000e+00   0.00000000e+00\n",
        "   0.00000000e+00   0.00000000e+00   0.00000000e+00   0.00000000e+00\n",
        "   0.00000000e+00   0.00000000e+00   0.00000000e+00   0.00000000e+00\n",
        "   0.00000000e+00   0.00000000e+00   0.00000000e+00   0.00000000e+00\n",
        "   0.00000000e+00   0.00000000e+00   0.00000000e+00   0.00000000e+00\n",
        "   0.00000000e+00  -1.45519152e-11  -1.45519152e-11  -1.45519152e-11\n",
        "  -1.45519152e-11  -2.91038305e-11  -2.91038305e-11  -1.45519152e-11\n",
        "  -1.45519152e-11  -2.91038305e-11  -1.45519152e-11  -2.91038305e-11\n",
        "  -1.45519152e-11  -1.45519152e-11  -1.45519152e-11  -1.45519152e-11\n",
        "  -1.45519152e-11  -1.45519152e-11  -1.45519152e-11  -2.91038305e-11\n",
        "  -1.45519152e-11  -1.45519152e-11  -1.45519152e-11  -1.45519152e-11\n",
        "   0.00000000e+00   0.00000000e+00   0.00000000e+00   0.00000000e+00\n",
        "   0.00000000e+00   0.00000000e+00   0.00000000e+00   0.00000000e+00\n",
        "  -2.91038305e-11  -2.91038305e-11  -2.91038305e-11  -2.91038305e-11\n",
        "  -2.91038305e-11  -2.91038305e-11  -2.91038305e-11  -2.91038305e-11\n",
        "  -2.91038305e-11  -2.91038305e-11   0.00000000e+00   0.00000000e+00\n",
        "   0.00000000e+00   0.00000000e+00   0.00000000e+00   0.00000000e+00\n",
        "   0.00000000e+00   0.00000000e+00   0.00000000e+00  -2.91038305e-11\n",
        "  -2.91038305e-11  -2.91038305e-11  -2.91038305e-11  -2.91038305e-11\n",
        "  -2.91038305e-11  -5.82076609e-11  -5.82076609e-11  -5.82076609e-11\n",
        "  -5.82076609e-11  -5.82076609e-11  -5.82076609e-11  -5.82076609e-11\n",
        "  -2.91038305e-11  -2.91038305e-11  -5.82076609e-11  -5.82076609e-11\n",
        "  -5.82076609e-11  -5.82076609e-11  -2.91038305e-11  -2.91038305e-11\n",
        "  -2.91038305e-11  -5.82076609e-11  -2.91038305e-11  -2.91038305e-11\n",
        "  -2.91038305e-11  -2.91038305e-11  -2.91038305e-11  -2.91038305e-11\n",
        "   0.00000000e+00   0.00000000e+00   0.00000000e+00   0.00000000e+00\n",
        "   0.00000000e+00   0.00000000e+00   0.00000000e+00   0.00000000e+00\n",
        "   0.00000000e+00   0.00000000e+00   0.00000000e+00   0.00000000e+00\n",
        "   0.00000000e+00   0.00000000e+00   0.00000000e+00  -2.91038305e-11\n",
        "  -2.91038305e-11  -2.91038305e-11  -2.91038305e-11  -2.91038305e-11\n",
        "  -2.91038305e-11   0.00000000e+00   0.00000000e+00   0.00000000e+00\n",
        "   2.91038305e-11   2.91038305e-11   2.91038305e-11   2.91038305e-11\n",
        "   2.91038305e-11   2.91038305e-11   2.91038305e-11   2.91038305e-11\n",
        "   2.91038305e-11   2.91038305e-11   2.91038305e-11   2.91038305e-11\n",
        "   2.91038305e-11   5.82076609e-11   5.82076609e-11   5.82076609e-11\n",
        "   5.82076609e-11   8.73114914e-11   8.73114914e-11   8.73114914e-11\n",
        "   8.73114914e-11   8.73114914e-11   8.73114914e-11   8.73114914e-11\n",
        "   8.73114914e-11   8.73114914e-11   1.16415322e-10   8.73114914e-11\n",
        "   1.16415322e-10   8.73114914e-11   8.73114914e-11   8.73114914e-11\n",
        "   8.73114914e-11   8.73114914e-11   8.73114914e-11   5.82076609e-11\n",
        "   5.82076609e-11   5.82076609e-11   5.82076609e-11   5.82076609e-11\n",
        "   5.82076609e-11   5.82076609e-11   5.82076609e-11   5.82076609e-11\n",
        "   5.82076609e-11   5.82076609e-11   5.82076609e-11   5.82076609e-11\n",
        "   5.82076609e-11   5.82076609e-11   5.82076609e-11   5.82076609e-11\n",
        "   5.82076609e-11   5.82076609e-11   5.82076609e-11   2.91038305e-11\n",
        "   2.91038305e-11   2.91038305e-11   2.91038305e-11   2.91038305e-11\n",
        "   2.91038305e-11   0.00000000e+00   2.91038305e-11   2.91038305e-11\n",
        "   2.91038305e-11   0.00000000e+00   0.00000000e+00   0.00000000e+00\n",
        "   0.00000000e+00  -2.91038305e-11  -2.91038305e-11  -2.91038305e-11\n",
        "  -2.91038305e-11  -2.91038305e-11  -2.91038305e-11  -2.91038305e-11\n",
        "  -2.91038305e-11  -2.91038305e-11  -2.91038305e-11  -2.91038305e-11\n",
        "  -2.91038305e-11  -2.91038305e-11  -2.91038305e-11  -2.91038305e-11\n",
        "  -2.91038305e-11  -2.91038305e-11  -2.91038305e-11  -2.91038305e-11\n",
        "  -2.91038305e-11  -2.91038305e-11  -2.91038305e-11  -2.91038305e-11\n",
        "  -2.91038305e-11   0.00000000e+00   0.00000000e+00   0.00000000e+00\n",
        "   2.91038305e-11   2.91038305e-11   0.00000000e+00   2.91038305e-11\n",
        "   2.91038305e-11   2.91038305e-11   0.00000000e+00   2.91038305e-11\n",
        "   0.00000000e+00   0.00000000e+00   2.91038305e-11   2.91038305e-11\n",
        "   2.91038305e-11   2.91038305e-11   2.91038305e-11   2.91038305e-11\n",
        "   2.91038305e-11   2.91038305e-11   2.91038305e-11   2.91038305e-11\n",
        "   2.91038305e-11   2.91038305e-11   2.91038305e-11   0.00000000e+00\n",
        "   2.91038305e-11   0.00000000e+00   0.00000000e+00   2.91038305e-11\n",
        "   2.91038305e-11   2.91038305e-11   2.91038305e-11   2.91038305e-11\n",
        "   2.91038305e-11   2.91038305e-11   5.82076609e-11   5.82076609e-11\n",
        "   5.82076609e-11   2.91038305e-11   2.91038305e-11   2.91038305e-11\n",
        "   2.91038305e-11   2.91038305e-11   2.91038305e-11   2.91038305e-11\n",
        "   2.91038305e-11   2.91038305e-11   2.91038305e-11   2.91038305e-11\n",
        "   2.91038305e-11   2.91038305e-11   2.91038305e-11   5.82076609e-11\n",
        "   2.91038305e-11   5.82076609e-11   2.91038305e-11   2.91038305e-11\n",
        "   5.82076609e-11   2.91038305e-11   5.82076609e-11   5.82076609e-11\n",
        "   5.82076609e-11   5.82076609e-11   5.82076609e-11   5.82076609e-11\n",
        "   5.82076609e-11   8.73114914e-11   8.73114914e-11   8.73114914e-11\n",
        "   8.73114914e-11   1.16415322e-10   1.16415322e-10   1.16415322e-10\n",
        "   8.73114914e-11   8.73114914e-11   8.73114914e-11   8.73114914e-11\n",
        "   8.73114914e-11   8.73114914e-11   8.73114914e-11   8.73114914e-11\n",
        "   1.16415322e-10   1.16415322e-10   1.16415322e-10   1.16415322e-10\n",
        "   1.16415322e-10   1.16415322e-10   1.16415322e-10   8.73114914e-11\n",
        "   1.16415322e-10   8.73114914e-11   1.16415322e-10   1.16415322e-10\n",
        "   1.16415322e-10   1.45519152e-10   1.45519152e-10   1.45519152e-10\n",
        "   1.16415322e-10   1.45519152e-10   1.16415322e-10   1.16415322e-10\n",
        "   1.45519152e-10   1.45519152e-10   1.16415322e-10   1.45519152e-10\n",
        "   1.16415322e-10   1.16415322e-10   1.16415322e-10   1.16415322e-10\n",
        "   1.16415322e-10   8.73114914e-11   8.73114914e-11   1.16415322e-10\n",
        "   8.73114914e-11   8.73114914e-11   1.16415322e-10   8.73114914e-11\n",
        "   8.73114914e-11   8.73114914e-11   8.73114914e-11   8.73114914e-11\n",
        "   5.82076609e-11   5.82076609e-11   8.73114914e-11   5.82076609e-11\n",
        "   5.82076609e-11   5.82076609e-11   5.82076609e-11   5.82076609e-11\n",
        "   5.82076609e-11   5.82076609e-11   5.82076609e-11   5.82076609e-11\n",
        "   5.82076609e-11   5.82076609e-11   5.82076609e-11   5.82076609e-11\n",
        "   5.82076609e-11   5.82076609e-11   5.82076609e-11   5.82076609e-11\n",
        "   8.73114914e-11   8.73114914e-11   8.73114914e-11   8.73114914e-11\n",
        "   8.73114914e-11   8.73114914e-11   8.73114914e-11   1.16415322e-10\n",
        "   8.73114914e-11   8.73114914e-11   8.73114914e-11   8.73114914e-11\n",
        "   8.73114914e-11   8.73114914e-11   8.73114914e-11   8.73114914e-11\n",
        "   8.73114914e-11   8.73114914e-11   8.73114914e-11   8.73114914e-11\n",
        "   8.73114914e-11   8.73114914e-11   8.73114914e-11   8.73114914e-11\n",
        "   8.73114914e-11   8.73114914e-11   8.73114914e-11   8.73114914e-11\n",
        "   8.73114914e-11   8.73114914e-11   8.73114914e-11   1.16415322e-10\n",
        "   1.16415322e-10   1.16415322e-10   1.16415322e-10   1.16415322e-10\n",
        "   1.16415322e-10   1.16415322e-10   1.45519152e-10   1.16415322e-10\n",
        "   1.16415322e-10   1.16415322e-10   1.16415322e-10   1.45519152e-10\n",
        "   1.45519152e-10   1.16415322e-10   1.45519152e-10   1.45519152e-10\n",
        "   1.45519152e-10   1.45519152e-10   1.45519152e-10   1.45519152e-10\n",
        "   1.45519152e-10   1.45519152e-10   1.16415322e-10   1.16415322e-10\n",
        "   1.16415322e-10   1.16415322e-10   1.16415322e-10   8.73114914e-11\n",
        "   8.73114914e-11   8.73114914e-11   8.73114914e-11   8.73114914e-11\n",
        "   1.16415322e-10   1.16415322e-10   1.16415322e-10   1.16415322e-10\n",
        "   1.16415322e-10   8.73114914e-11   1.16415322e-10   1.16415322e-10\n",
        "   8.73114914e-11   1.16415322e-10   1.16415322e-10   1.16415322e-10\n",
        "   1.16415322e-10   1.16415322e-10   1.16415322e-10   1.16415322e-10\n",
        "   1.16415322e-10   1.16415322e-10   8.73114914e-11   5.82076609e-11\n",
        "   5.82076609e-11   5.82076609e-11   5.82076609e-11   1.16415322e-10\n",
        "   1.16415322e-10   1.16415322e-10   1.16415322e-10   1.74622983e-10\n",
        "   1.16415322e-10   1.74622983e-10   1.16415322e-10   1.74622983e-10\n",
        "   1.16415322e-10   1.74622983e-10   1.16415322e-10   1.16415322e-10\n",
        "   1.16415322e-10   1.16415322e-10   1.16415322e-10   5.82076609e-11\n",
        "   5.82076609e-11   5.82076609e-11   5.82076609e-11   5.82076609e-11\n",
        "   5.82076609e-11   5.82076609e-11   5.82076609e-11   5.82076609e-11\n",
        "   5.82076609e-11   5.82076609e-11   1.16415322e-10   1.16415322e-10\n",
        "   1.16415322e-10   1.16415322e-10   1.16415322e-10   1.16415322e-10\n",
        "   1.16415322e-10   1.16415322e-10   1.16415322e-10   1.16415322e-10\n",
        "   1.16415322e-10   5.82076609e-11   5.82076609e-11   5.82076609e-11\n",
        "   5.82076609e-11   5.82076609e-11   5.82076609e-11   5.82076609e-11\n",
        "   5.82076609e-11   5.82076609e-11   5.82076609e-11   5.82076609e-11\n",
        "   5.82076609e-11   1.16415322e-10   1.16415322e-10   1.16415322e-10\n",
        "   1.16415322e-10   1.16415322e-10   1.16415322e-10   1.74622983e-10\n",
        "   1.74622983e-10   1.74622983e-10   1.74622983e-10   1.74622983e-10\n",
        "   1.74622983e-10   1.74622983e-10   1.74622983e-10   2.32830644e-10\n",
        "   1.74622983e-10   2.32830644e-10   1.74622983e-10   1.74622983e-10\n",
        "   1.74622983e-10   1.74622983e-10   1.74622983e-10   1.74622983e-10\n",
        "   1.74622983e-10   2.32830644e-10   2.32830644e-10   2.32830644e-10\n",
        "   2.32830644e-10   1.74622983e-10   2.32830644e-10   2.32830644e-10\n",
        "   2.32830644e-10   2.32830644e-10   1.74622983e-10   2.32830644e-10\n",
        "   1.74622983e-10   1.74622983e-10   1.74622983e-10   1.74622983e-10\n",
        "   1.16415322e-10   1.74622983e-10   1.74622983e-10   1.74622983e-10\n",
        "   1.74622983e-10   1.74622983e-10   2.32830644e-10   1.74622983e-10\n",
        "   1.74622983e-10   1.16415322e-10   1.74622983e-10   1.74622983e-10\n",
        "   1.74622983e-10   1.74622983e-10   1.16415322e-10   1.16415322e-10\n",
        "   1.16415322e-10   1.16415322e-10   1.16415322e-10   1.16415322e-10\n",
        "   1.16415322e-10   1.74622983e-10   1.16415322e-10   1.74622983e-10\n",
        "   1.16415322e-10   1.16415322e-10   1.16415322e-10   1.16415322e-10\n",
        "   1.74622983e-10   1.74622983e-10   1.74622983e-10   1.74622983e-10\n",
        "   1.74622983e-10   1.74622983e-10   1.74622983e-10   1.74622983e-10\n",
        "   1.16415322e-10   1.74622983e-10   1.74622983e-10   1.74622983e-10\n",
        "   1.74622983e-10   1.74622983e-10   1.74622983e-10   2.32830644e-10\n",
        "   2.32830644e-10   2.32830644e-10   2.32830644e-10   2.32830644e-10\n",
        "   1.74622983e-10   2.32830644e-10   1.74622983e-10   1.74622983e-10\n",
        "   1.74622983e-10   1.74622983e-10   1.74622983e-10   1.74622983e-10\n",
        "   2.32830644e-10   2.32830644e-10   2.32830644e-10   2.32830644e-10\n",
        "   2.32830644e-10   2.32830644e-10   2.32830644e-10   2.32830644e-10\n",
        "   2.32830644e-10   2.32830644e-10   2.32830644e-10   1.74622983e-10\n",
        "   1.74622983e-10   1.74622983e-10   1.74622983e-10   1.74622983e-10\n",
        "   2.32830644e-10   2.32830644e-10   2.32830644e-10   2.32830644e-10\n",
        "   2.32830644e-10   2.32830644e-10   2.32830644e-10   2.32830644e-10\n",
        "   2.32830644e-10   1.74622983e-10   1.74622983e-10   1.74622983e-10\n",
        "   1.74622983e-10   1.74622983e-10   1.74622983e-10   1.74622983e-10\n",
        "   1.74622983e-10   1.74622983e-10   1.74622983e-10   1.74622983e-10\n",
        "   1.74622983e-10   1.74622983e-10   1.74622983e-10   1.74622983e-10\n",
        "   1.74622983e-10   1.74622983e-10   1.74622983e-10   2.32830644e-10\n",
        "   2.32830644e-10   2.32830644e-10   2.32830644e-10   1.74622983e-10\n",
        "   1.74622983e-10   1.74622983e-10   1.74622983e-10   1.74622983e-10\n",
        "   1.74622983e-10   1.74622983e-10   1.74622983e-10   1.74622983e-10\n",
        "   1.74622983e-10   1.74622983e-10   1.74622983e-10   1.74622983e-10\n",
        "   1.74622983e-10   2.32830644e-10   2.32830644e-10   2.32830644e-10\n",
        "   2.32830644e-10   2.32830644e-10   2.32830644e-10   2.32830644e-10\n",
        "   2.32830644e-10   2.32830644e-10   2.32830644e-10   2.32830644e-10\n",
        "   2.32830644e-10   1.16415322e-10   1.16415322e-10   1.16415322e-10\n",
        "   1.16415322e-10   2.32830644e-10   2.32830644e-10   2.32830644e-10\n",
        "   2.32830644e-10   2.32830644e-10   2.32830644e-10   2.32830644e-10\n",
        "   2.32830644e-10   2.32830644e-10   2.32830644e-10   2.32830644e-10\n",
        "   2.32830644e-10   2.32830644e-10   2.32830644e-10   3.49245965e-10\n",
        "   3.49245965e-10   3.49245965e-10   3.49245965e-10   2.32830644e-10\n",
        "   3.49245965e-10   2.32830644e-10   2.32830644e-10   2.32830644e-10\n",
        "   2.32830644e-10   2.32830644e-10   1.16415322e-10   1.16415322e-10\n",
        "   1.16415322e-10   1.16415322e-10   1.16415322e-10   1.16415322e-10\n",
        "   1.16415322e-10   2.32830644e-10   2.32830644e-10   1.16415322e-10\n",
        "   2.32830644e-10   2.32830644e-10   2.32830644e-10   2.32830644e-10\n",
        "   2.32830644e-10   2.32830644e-10   3.49245965e-10   3.49245965e-10\n",
        "   2.32830644e-10   2.32830644e-10   2.32830644e-10   3.49245965e-10\n",
        "   2.32830644e-10   3.49245965e-10   2.32830644e-10   3.49245965e-10\n",
        "   3.49245965e-10   2.32830644e-10   2.32830644e-10   2.32830644e-10]\n"
       ]
      }
     ],
     "prompt_number": 190
    },
    {
     "cell_type": "code",
     "collapsed": false,
     "input": [
      "# This is what the 0.46 really is\n",
      "coeff = (2. / 10.) * np.log(10)\n",
      "\n",
      "# Z needs to be in dB here. This is why the formula differs from the paper, which is linear\n",
      "def I(z, dr, b):\n",
      "    #return I0(z, dr, b) - coeff * b * cumtrapz(10 ** (0.1 * b * z), dx=dr, initial=0)\n",
      "    # Cumulatively integrate away from the last value. Return these in the reverse order since\n",
      "    # it's supposed to be in order of increasing r.\n",
      "    return coeff * b * cumtrapz(10 ** (0.1 * b * z[::-1]), dx=dr, initial=0)[::-1]\n",
      "\n",
      "def I2(z, dr, b):\n",
      "    #return I0(z, dr, b) - coeff * b * cumtrapz(10 ** (0.1 * b * z), dx=dr, initial=0)\n",
      "    # Cumulatively integrate away from the last value. Return these in the reverse order since\n",
      "    # it's supposed to be in order of increasing r.\n",
      "    return coeff * b * cumtrapz(10 ** (0.1 * b * z[::-1]), dx=dr, initial=0)[::-1]\n",
      "\n",
      "\n",
      "def I1(z, dr, b):\n",
      "    return coeff * b * cumtrapz(10 ** (0.1 * b * z), dx=dr, initial=0)\n"
     ],
     "language": "python",
     "metadata": {},
     "outputs": [],
     "prompt_number": 228
    },
    {
     "cell_type": "code",
     "collapsed": false,
     "input": [
      "# And here too\n",
      "def I0(z, dr, b):\n",
      "    #return coeff * b * si.trapz(z**b, dx=dr)\n",
      "    return coeff * b * trapz(10 ** (0.1 * b * z), dx=dr)"
     ],
     "language": "python",
     "metadata": {},
     "outputs": [],
     "prompt_number": 229
    },
    {
     "cell_type": "code",
     "collapsed": false,
     "input": [
      "def zphi(z, dr, delta_phi, b=0.7644, gamma=3.2e-1):\n",
      "    #z_lin = 10 ** (z / 10.)\n",
      "    r = 10. ** (0.1 * b * gamma * delta_phi)\n",
      "    phi_factor = r - 1\n",
      "    #return phi_factor * z_lin**b / (I0(z_lin, dr, b) + phi_factor * I(z_lin, dr, b))\n",
      "    #return phi_factor * 10 ** (0.1 * b * z) / (I0(z, dr, b) + phi_factor * I(z, dr, b))\n",
      "    return phi_factor * 10 ** (0.1 * b * z) / (I1(z, dr, b) + r * I2(z, dr, b))\n",
      "    #return 10 ** (0.1 * b * z - np.log10(I0(z, dr, b) / phi_factor + I(z, dr, b)))\n",
      "    #return (10. ** (0.1 * b * (gamma * delta_phi + z)) - 10 ** (0.1 * z * b)) / (I0(z, dr, b) + phi_factor * I(z, dr, b))"
     ],
     "language": "python",
     "metadata": {},
     "outputs": [],
     "prompt_number": 237
    },
    {
     "cell_type": "code",
     "collapsed": false,
     "input": [
      "# Microphysical paramters\n",
      "N0 = 8e6\n",
      "a = 3.64e-6\n",
      "b = 0.7644\n",
      "alpha = 1.97\n",
      "beta = 0.973\n",
      "gamma = 3.2e-1\n",
      "def gen_data(z, a, b, gamma, N0):\n",
      "    A = a * N0 ** (1 - b) * 10**(0.1 * b * z)\n",
      "    #kdp = alpha * N0 ** (1 - beta) * A ** beta\n",
      "    kdp = A / gamma\n",
      "    return A, kdp"
     ],
     "language": "python",
     "metadata": {},
     "outputs": [],
     "prompt_number": 28
    },
    {
     "cell_type": "code",
     "collapsed": false,
     "input": [
      "z = np.arange(0, 80)\n",
      "z_lin = 10**(z/10.)\n",
      "A = a * N0 ** (1 - b) * z_lin ** b"
     ],
     "language": "python",
     "metadata": {},
     "outputs": [],
     "prompt_number": 8
    },
    {
     "cell_type": "code",
     "collapsed": false,
     "input": [
      "figsize(6, 4)\n",
      "plt.plot(np.log10(z_lin / N0), np.log10(A / N0), 'k--')\n",
      "plt.xlim(-7, 1)\n",
      "plt.ylim(-11, -5);"
     ],
     "language": "python",
     "metadata": {},
     "outputs": [
      {
       "output_type": "display_data",
       "png": "[encoded data removed]",
       "text": [
        "<matplotlib.figure.Figure at 0x3810550>"
       ]
      }
     ],
     "prompt_number": 9
    },
    {
     "cell_type": "code",
     "collapsed": false,
     "input": [
      "delta_r = 0.125\n",
      "z_diffs = np.random.randn(100 / delta_r)\n",
      "z_gen = 50 + z_diffs.cumsum()\n",
      "#z_gen.fill(55)"
     ],
     "language": "python",
     "metadata": {},
     "outputs": [],
     "prompt_number": 124
    },
    {
     "cell_type": "code",
     "collapsed": false,
     "input": [
      "z = z_gen.copy()\n",
      "A,kdp = gen_data(z, a, b, gamma, N0)\n",
      "atten = cumtrapz(2 * A, dx=delta_r, initial=0)\n",
      "phidp = 2 * trapz(kdp, dx=delta_r)\n",
      "atten_z = z - atten"
     ],
     "language": "python",
     "metadata": {},
     "outputs": [],
     "prompt_number": 218
    },
    {
     "cell_type": "code",
     "collapsed": false,
     "input": [
      "rng = delta_r * np.arange(A.size)\n",
      "A_est = zphi(atten_z, delta_r, phidp, b, gamma)\n",
      "corr_z = atten_z + (2 * delta_r * A_est).cumsum()"
     ],
     "language": "python",
     "metadata": {},
     "outputs": [],
     "prompt_number": 238
    },
    {
     "cell_type": "code",
     "collapsed": false,
     "input": [
      "figsize(12, 4)\n",
      "fig,(ax1,ax2,ax3) = plt.subplots(1, 3)\n",
      "ax1.plot(rng, z, 'b', label='truth')\n",
      "ax1.plot(rng, atten_z, 'r', label='attenuated')\n",
      "ax1.plot(rng, corr_z, 'g', label='corrected')\n",
      "ax1.legend(loc='lower left')\n",
      "ax1.set_title('Reflectivity')\n",
      "\n",
      "ax2.plot(rng, A, 'r', label='truth')\n",
      "ax2.plot(rng, A_est, 'b', label='estimate')\n",
      "ax2.set_title('Attenuation')\n",
      "ax2.legend()\n",
      "\n",
      "rel_err = (A - A_est) / A\n",
      "ax3.plot(rng, rel_err, label='Relative Error')\n",
      "ax3.set_title('Relative Error')\n",
      "fig.tight_layout()"
     ],
     "language": "python",
     "metadata": {},
     "outputs": [
      {
       "output_type": "display_data",
       "png": "[encoded data removed]",
       "text": [
        "<matplotlib.figure.Figure at 0x4c0c150>"
       ]
      }
     ],
     "prompt_number": 239
    },
    {
     "cell_type": "code",
     "collapsed": false,
     "input": [
      "rel_err.min(), rel_err.max()"
     ],
     "language": "python",
     "metadata": {},
     "outputs": [
      {
       "output_type": "pyout",
       "prompt_number": 233,
       "text": [
        "(-0.0004731523468425625, 0.0080995437010295754)"
       ]
      }
     ],
     "prompt_number": 233
    },
    {
     "cell_type": "code",
     "collapsed": false,
     "input": [
      "z.max()"
     ],
     "language": "python",
     "metadata": {},
     "outputs": [
      {
       "output_type": "pyout",
       "prompt_number": 26,
       "text": [
        "58.763860973652896"
       ]
      }
     ],
     "prompt_number": 26
    },
    {
     "cell_type": "code",
     "collapsed": false,
     "input": [
      "z.argmax()"
     ],
     "language": "python",
     "metadata": {},
     "outputs": [
      {
       "output_type": "pyout",
       "prompt_number": 27,
       "text": [
        "217"
       ]
      }
     ],
     "prompt_number": 27
    },
    {
     "cell_type": "code",
     "collapsed": false,
     "input": [],
     "language": "python",
     "metadata": {},
     "outputs": []
    }
   ],
   "metadata": {}
  }
 ]
}
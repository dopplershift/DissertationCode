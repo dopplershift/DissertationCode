{
 "metadata": {
  "name": "ZPHI"
 },
 "nbformat": 3,
 "nbformat_minor": 0,
 "worksheets": [
  {
   "cells": [
    {
     "cell_type": "markdown",
     "metadata": {},
     "source": [
      "This explores the ZPHI attenuation correction algorithm."
     ]
    },
    {
     "cell_type": "code",
     "collapsed": false,
     "input": [
      "# Initial set up\n",
      "import numpy as np\n",
      "import scipy.integrate as si\n",
      "import matplotlib.pyplot as plt\n",
      "%pylab inline"
     ],
     "language": "python",
     "metadata": {},
     "outputs": []
    },
    {
     "cell_type": "heading",
     "level": 2,
     "metadata": {},
     "source": [
      "Algorithm Implementation"
     ]
    },
    {
     "cell_type": "code",
     "collapsed": false,
     "input": [
      "# This is the main calculation, as outlined in equation (24) in the Testud et al. (2000) paper\n",
      "def zphi(z, dr, delta_phi, b=0.7644, gamma=3.2e-1):\n",
      "    phi_factor = np.expm1(np.log(10) * b * gamma * delta_phi / 10.)\n",
      "    return phi_factor * 10**((b / 10.) * z) / (I0(z, dr, b) + phi_factor * I(z, dr, b))"
     ],
     "language": "python",
     "metadata": {},
     "outputs": []
    },
    {
     "cell_type": "code",
     "collapsed": false,
     "input": [
      "# This is the implementation of the I function. We have two versions, since one needs to be\n",
      "# implemented as a cumulative function in order to maintain a dependence on r.\n",
      "\n",
      "# This is what the 0.46 really is. Using just 0.46 introduces a 1% error needlessly.\n",
      "coeff = (2. / 10.) * np.log(10)\n",
      "\n",
      "# Z needs to be in dB here. This is why the formula differs from the paper, which is linear.\n",
      "# Keeping Z in dB let's us only need a single pow (**) call.\n",
      "def I(z, dr, b):\n",
      "    # Cumulatively integrate away from the last value. Return these in the reverse order since\n",
      "    # it's supposed to be in order of increasing r.\n",
      "    return coeff * b * si.cumtrapz(10 ** ((b / 10.)* z[::-1]), dx=dr, initial=0)[::-1]\n",
      "\n",
      "# And here too\n",
      "def I0(z, dr, b):\n",
      "    return coeff * b * np.trapz(10 ** ((b / 10.) * z), dx=dr)"
     ],
     "language": "python",
     "metadata": {},
     "outputs": []
    },
    {
     "cell_type": "code",
     "collapsed": false,
     "input": [
      "# Microphysical paramters\n",
      "N0 = 8e6\n",
      "a = 3.64e-6\n",
      "b = 0.7644\n",
      "alpha = 1.97\n",
      "beta = 0.973\n",
      "gamma = 3.2e-1\n",
      "\n",
      "# Testing function to generate data using the assumed relationships\n",
      "def gen_data(z, a, b, gamma, N0):\n",
      "    A = a * N0 ** (1 - b) * 10**((b / 10.) * z)\n",
      "    #kdp = alpha * N0 ** (1 - beta) * A ** beta\n",
      "    kdp = A / gamma\n",
      "    return A, kdp"
     ],
     "language": "python",
     "metadata": {},
     "outputs": []
    },
    {
     "cell_type": "heading",
     "level": 2,
     "metadata": {},
     "source": [
      "Sanity Check"
     ]
    },
    {
     "cell_type": "markdown",
     "metadata": {},
     "source": [
      "This is an attempt to reproduce the dashed line in Figure 2a. Doing so gives me more confidence that the units are correct. For reference, the units used in the paper are hidden in section 3d:\n",
      "\n",
      "* Z is in $mm^6 / m^3$\n",
      "* A is in $dB / km$\n",
      "* $K_{DP}$ is in $deg / km$"
     ]
    },
    {
     "cell_type": "code",
     "collapsed": false,
     "input": [
      "z = np.arange(0, 80)\n",
      "z_lin = 10**(z/10.)\n",
      "A = a * N0 ** (1 - b) * z_lin ** b"
     ],
     "language": "python",
     "metadata": {},
     "outputs": []
    },
    {
     "cell_type": "code",
     "collapsed": false,
     "input": [
      "figsize(6, 4)\n",
      "plt.plot(np.log10(z_lin / N0), np.log10(A / N0), 'k--')\n",
      "plt.xlim(-7, 1)\n",
      "plt.ylim(-11, -5)\n",
      "plt.xlabel(r'$\\log_{10}(Z_h / N_0)$')\n",
      "plt.ylabel(r'$\\log_{10}(A_h / N_0)$');"
     ],
     "language": "python",
     "metadata": {},
     "outputs": []
    },
    {
     "cell_type": "heading",
     "level": 2,
     "metadata": {},
     "source": [
      "Testing the implementation"
     ]
    },
    {
     "cell_type": "markdown",
     "metadata": {},
     "source": [
      "Here we test our algorithm's implementation. We do this by generating an arbitrary reference reflectivity field (here a random walk). We then calculate attenuation and $K_{DP}$ using the assumptions made in the algorithm. We then pass the $\\Phi_{DP}$ and attenuated reflectivity calculated from this to the algorithm. If everything goes right, the retrieved attenuation should match that calculated. We see below that this is the case within reasonable numerical error. This test has been useful in shaking out several problems (like the 0.46 problem). There are some persistent numerical problems where large attenuation results in loss of bits, and hence numerical error. This is not likely to be a problem in operation however."
     ]
    },
    {
     "cell_type": "code",
     "collapsed": false,
     "input": [
      "# Generate reflectivity using a random walk over 100 km\n",
      "delta_r = 0.125 # km\n",
      "z_diffs = np.random.randn(100 / delta_r)\n",
      "z_gen = 50 + z_diffs.cumsum()\n",
      "#z_gen.fill(55)"
     ],
     "language": "python",
     "metadata": {},
     "outputs": []
    },
    {
     "cell_type": "code",
     "collapsed": false,
     "input": [
      "# Calculate data using assumptions\n",
      "z = z_gen.copy() # Used to make it easy to repeat with same random data\n",
      "A,kdp = gen_data(z, a, b, gamma, N0)\n",
      "atten = si.cumtrapz(2 * A, dx=delta_r, initial=0)\n",
      "phidp = 2 * np.trapz(kdp, dx=delta_r)\n",
      "atten_z = z - atten"
     ],
     "language": "python",
     "metadata": {},
     "outputs": []
    },
    {
     "cell_type": "code",
     "collapsed": false,
     "input": [
      "# Run algorithm\n",
      "A_est = zphi(atten_z, delta_r, phidp, b, gamma)\n",
      "corr_z = atten_z + (2 * delta_r * A_est).cumsum()"
     ],
     "language": "python",
     "metadata": {},
     "outputs": []
    },
    {
     "cell_type": "code",
     "collapsed": false,
     "input": [
      "# Plot some results\n",
      "rng = delta_r * np.arange(A.size)\n",
      "figsize(12, 4)\n",
      "fig,(ax1,ax2,ax3) = plt.subplots(1, 3)\n",
      "ax1.plot(rng, z, 'b', label='truth')\n",
      "ax1.plot(rng, atten_z, 'r', label='attenuated')\n",
      "ax1.plot(rng, corr_z, 'g', label='corrected')\n",
      "ax1.legend(loc='lower left')\n",
      "ax1.set_title('Reflectivity')\n",
      "\n",
      "ax2.plot(rng, A, 'r', label='truth')\n",
      "ax2.plot(rng, A_est, 'b', label='estimate')\n",
      "ax2.set_title('Attenuation')\n",
      "ax2.legend()\n",
      "\n",
      "rel_err = (A - A_est) / A\n",
      "ax3.plot(rng, rel_err, label='Relative Error')\n",
      "ax3.set_title('Relative Error')\n",
      "fig.tight_layout()"
     ],
     "language": "python",
     "metadata": {},
     "outputs": []
    },
    {
     "cell_type": "code",
     "collapsed": false,
     "input": [
      "# Look at the relative error\n",
      "rel_err.min(), rel_err.max()"
     ],
     "language": "python",
     "metadata": {},
     "outputs": []
    }
   ],
   "metadata": {}
  }
 ]
}
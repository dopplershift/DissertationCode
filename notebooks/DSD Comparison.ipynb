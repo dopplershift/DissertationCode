{
 "metadata": {
  "name": "DSD Comparison"
 },
 "nbformat": 3,
 "nbformat_minor": 0,
 "worksheets": [
  {
   "cells": [
    {
     "cell_type": "heading",
     "level": 2,
     "metadata": {},
     "source": [
      "Description"
     ]
    },
    {
     "cell_type": "markdown",
     "metadata": {},
     "source": [
      "What I'm trying to accomplish here is to compare two approaches to doing scattering calculations using the output from COMMAS. COMMAS internally uses a gamma style distribution on drop volume; the parameterization is two-moment, which are the 0th and 1st moments. This maps to number concentration and liquid water content. Compared here are scattering calculations using:\n",
      "\n",
      "* Volume Gamma\n",
      "* Constrained Gamma (Zhang et al. 2001)\n",
      "\n",
      "The constrained gamma approach uses the $\\Lambda-\\mu$ relation to constrain the full 3-parameter gamma distribution into a 2 parameter, well-posed problem. However, due to the math involved, one ends up solving a 6th order polynomial that often has two positive, real solutions. As a result, we are forced to pick one that arbitrarily fits the space of observations better."
     ]
    },
    {
     "cell_type": "heading",
     "level": 2,
     "metadata": {},
     "source": [
      "Calculation"
     ]
    },
    {
     "cell_type": "code",
     "collapsed": false,
     "input": [
      "%pylab inline\n",
      "figsize(12, 9)"
     ],
     "language": "python",
     "metadata": {},
     "outputs": []
    },
    {
     "cell_type": "code",
     "collapsed": false,
     "input": [
      "# Initial set-up\n",
      "import numpy as np\n",
      "import matplotlib.pyplot as plt\n",
      "import quantities as pq\n",
      "from disser import io, scatter\n",
      "import dsd"
     ],
     "language": "python",
     "metadata": {},
     "outputs": []
    },
    {
     "cell_type": "code",
     "collapsed": false,
     "input": [
      "def scatter_cache(func):\n",
      "    def wrapper(d, N0, qr, wavelength, temp):\n",
      "        filename = func.__name__ + '.npz'\n",
      "        try:\n",
      "            data = np.load(filename)\n",
      "            dist = data['dist']\n",
      "            rr = pq.Quantity(data['rr'], 'mm/hr')\n",
      "            scatter = scatter.ScatterResults(*[data[k] for k in \n",
      "                ['z', 'zdr', 'atten', 'diff_atten', 'kdp', 'delta']])\n",
      "            print 'Data loaded from file: %s' % filename\n",
      "        except IOError:\n",
      "            print 'Cache file not used: %s' % filename\n",
      "            dist = func(d, N0, qr)\n",
      "            rr = dsd.rainrate(d, dist, dsd.rain_fallspeed(d)).rescale('mm/hr')\n",
      "            dist_scatter = scatter.bulk_scatter(wavelength, temp, dist, d)\n",
      "            dist_dict = dist_scatter._asdict()\n",
      "            dist_dict['rr'] = rr\n",
      "            dist_dict['dist'] = dist\n",
      "            np.savez(filename, **dist_dict)\n",
      "        return dist, rr, scatter\n",
      "    return wrapper\n"
     ],
     "language": "python",
     "metadata": {},
     "outputs": []
    },
    {
     "cell_type": "code",
     "collapsed": false,
     "input": [
      "@scatter_cache\n",
      "def exponential(d, qr, nr):\n",
      "    return dsd.exponential(d, dsd.exponential_slope(nr, qr), nr)\n",
      "\n",
      "@scatter_cache\n",
      "def volume_gamma(d, qr, nr):\n",
      "    return dsd.volume_gamma(d, dsd.gamma_d0_from_lwc(qr, nr), nr)\n",
      "\n",
      "@scatter_cache\n",
      "def constrained_gamma5(d, qr, nr):\n",
      "    return dsd.constrained_gamma_from_moments(nr, qr, d, preferred_slope=5)\n",
      "\n",
      "@scatter_cache\n",
      "def constrained_gamma10(d, qr, nr):\n",
      "    return dsd.constrained_gamma_from_moments(nr, qr, d, preferred_slope=10)\n",
      "\n",
      "@scatter_cache\n",
      "def constrained_gamma_min(d, qr, nr):\n",
      "    return dsd.constrained_gamma_from_moments(nr, qr, d, preferred_slope=np.nanargmin)\n",
      "\n",
      "@scatter_cache\n",
      "def constrained_gamma_max(d, qr, nr):\n",
      "    return dsd.constrained_gamma_from_moments(nr, qr, d, preferred_slope=np.nanargmax)\n",
      "\n",
      "@scatter_cache\n",
      "@dsd.check_units(N='meters^3', qr='kg/m^3', d='mm')\n",
      "def constrained_gamma_fallback(d, qr, nr):\n",
      "    slope = dsd.constrained_gamma_slope(N, qr, 10)\n",
      "    shape = dsd.constrained_gamma_shape(slope)                                            \n",
      "                                                                                      \n",
      "    # If the slope is nan, it means fitting the contrained gamma failed and           \n",
      "    # we need to replace with with that from an exponential distribution              \n",
      "    fix_mask = np.isnan(slope)\n",
      "    slope[fix_mask] = dsd.exponential_slope(N[fix_mask], qr[fix_mask])\n",
      "    shape[fix_mask] = 0.\n",
      "    slope[~fix_mask] = np.nan\n",
      "    shape[~fix_mask] = np.nan\n",
      "\n",
      "    # For better numerical stability, we don't calculate the intercept                \n",
      "    # parameter directly. Instead, it's incorporated into a different                 \n",
      "    # parameterized form of the distribution.                                         \n",
      "    norm_d = no_units(d * slope)\n",
      "    return N * slope * norm_d ** shape * dsd.exp(-norm_d) / dsd.gamma_func(shape + 1)\n",
      "\n",
      "#@scatter_cache\n",
      "def sixth_moment(d, qr, nr):\n",
      "    nD = dsd.volume_gamma(d, dsd.gamma_d0_from_lwc(qr, nr), nr)\n",
      "    M6 = np.trapz(d**6 * nD, d, axis=-1)\n",
      "    mu = np.poly1d([1., 0.])\n",
      "    ratio = 36 * qr**2 / (np.pi **2 * (1e3 * pq.kg / pq.m**3)**2 * nr * M6)\n",
      "    sixth_fit_poly = (mu + 3) * (mu + 2) * (mu + 1) - ratio.simplified.magnitude * (mu + 6) * (mu + 5) * (mu + 4)\n",
      "    print np.roots(sixth_fit_poly)\n",
      "\n",
      "@scatter_cache\n",
      "def fixed_gamma(d, qr, nr):\n",
      "    shape = 0.84\n",
      "    slope = dsd.gamma_slope(nr, qr, shape)\n",
      "    N0 = dsd.gamma_intercept(nr, slope, shape)\n",
      "    return dsd.modified_gamma(d, slope, N0, shape)"
     ],
     "language": "python",
     "metadata": {},
     "outputs": [],
     "prompt_number": 69
    },
    {
     "cell_type": "code",
     "collapsed": false,
     "input": [
      "sixth_moment(np.linspace(0.01, 8.) * pq.mm, 1. * pq.g / pq.m**3, 8e5 / pq.m**3)"
     ],
     "language": "python",
     "metadata": {},
     "outputs": [
      {
       "output_type": "stream",
       "stream": "stdout",
       "text": [
        "420.391723825 kg**0.2*mm**6.6/(g**0.2*m**3.6)\n",
        "0.171893166059 dimensionless\n",
        "[-3.43514494+2.23763934j -3.43514494-2.23763934j  0.87028987+0.j        ]\n"
       ]
      }
     ],
     "prompt_number": 73
    },
    {
     "cell_type": "code",
     "collapsed": false,
     "input": [
      "# Scattering Parameters\n",
      "wavelength = 0.05 * pq.m\n",
      "temp = 10"
     ],
     "language": "python",
     "metadata": {},
     "outputs": []
    },
    {
     "cell_type": "code",
     "collapsed": false,
     "input": [
      "# Model distribution parameters\n",
      "try:\n",
      "    locals().update(np.load('model_dsd.npz'))\n",
      "    qr = pq.Quantity(qr, 'g/m**3')\n",
      "    nr = pq.Quantity(nr, 'm**-3')\n",
      "    print 'Model data loaded from file.'\n",
      "except IOError:\n",
      "#    num = 1000\n",
      "#    ind = 1453433\n",
      "    data = io.ModelData('/home/rmay/radar_sim_git/data/commas_wz_3600.nc')\n",
      "    mask = (data.qr > 1e-5) & (data.nr > 1e-2)\n",
      "    qr = data.qr[mask][::100]\n",
      "    qr = qr.rescale('g/m**3')\n",
      "    nr = data.nr[mask][::100]\n",
      "    np.savez('model_dsd.npz', qr=qr, nr=nr)\n",
      "    print 'Model data recalculated.'"
     ],
     "language": "python",
     "metadata": {},
     "outputs": []
    },
    {
     "cell_type": "code",
     "collapsed": false,
     "input": [
      "# Diameters for scattering\n",
      "d = np.linspace(0.01 * pq.mm, 8 * pq.mm, 100).astype(np.float32).reshape(-1,1)"
     ],
     "language": "python",
     "metadata": {},
     "outputs": []
    },
    {
     "cell_type": "code",
     "collapsed": false,
     "input": [
      "# Volume gamma scattering calculations\n",
      "dist_vg, rr_vg, vg_scatter = volume_gamma(d, N0, qr, wavelength, temp)\n",
      "\n",
      "# Constrained Gamma scattering calculations\n",
      "dist_cg, rr_cg, cg_scatter = constrained_gamma10(d, N0, qr, wavelength, temp)"
     ],
     "language": "python",
     "metadata": {},
     "outputs": []
    },
    {
     "cell_type": "code",
     "collapsed": false,
     "input": [
      "# First figure, qr vs. the parameters\n",
      "fig, ax = plt.subplots(1, 3, sharex=True)\n",
      "ax[0].plot(qr, vg_scatter.z, 'bo', label='Volume Gamma')\n",
      "ax[0].plot(qr, cg_scatter.z, 'go', label='Constrained Gamma')\n",
      "ax[0].set_xlabel(r'$q_r$ (%s)' % qr.dimensionality.latex)\n",
      "ax[0].grid(True)\n",
      "\n",
      "ax[1].plot(qr, vg_scatter.zdr, 'bo', label='Volume Gamma')\n",
      "ax[1].plot(qr, cg_scatter.zdr, 'go', label='Constrained Gamma')\n",
      "ax[1].set_xlabel(r'$q_r$ (%s)' % qr.dimensionality.latex)\n",
      "ax[1].grid(True)\n",
      "\n",
      "ax[2].plot(qr, vg_scatter.kdp, 'bo', label='Volume Gamma')\n",
      "ax[2].plot(qr, cg_scatter.kdp, 'go', label='Constrained Gamma')\n",
      "ax[2].set_xlabel(r'$q_r$ (%s)' % qr.dimensionality.latex)\n",
      "ax[2].grid(True)\n",
      "ax[2].legend(loc='upper left')\n",
      "\n",
      "ax[0].set_xlim(0, None)\n",
      "fig.tight_layout()"
     ],
     "language": "python",
     "metadata": {},
     "outputs": []
    },
    {
     "cell_type": "code",
     "collapsed": false,
     "input": [
      "# Now using rain rate\n",
      "fig2, ax2 = plt.subplots(1, 3, sharex=True)\n",
      "ax2[0].plot(rr_vg, vg_scatter.z, 'bo', label='Volume Gamma')\n",
      "ax2[0].plot(rr_cg, cg_scatter.z, 'go', label='Constrained Gamma')\n",
      "ax2[0].set_xlabel(r'$R$ (%s)' % rr_cg.dimensionality.latex)\n",
      "ax2[0].grid(True)\n",
      "\n",
      "ax2[1].plot(rr_vg, vg_scatter.zdr, 'bo', label='Volume Gamma')\n",
      "ax2[1].plot(rr_cg, cg_scatter.zdr, 'go', label='Constrained Gamma')\n",
      "ax2[1].set_xlabel(r'$R$ (%s)' % rr_cg.dimensionality.latex)\n",
      "ax2[1].grid(True)\n",
      "\n",
      "ax2[2].plot(rr_vg, vg_scatter.kdp, 'bo', label='Volume Gamma')\n",
      "ax2[2].plot(rr_cg, cg_scatter.kdp, 'go', label='Constrained Gamma')\n",
      "ax2[2].set_xlabel(r'$R$ (%s)' % rr_cg.dimensionality.latex)\n",
      "ax2[2].grid(True)\n",
      "ax2[2].legend(loc='upper left')\n",
      "\n",
      "ax2[0].set_xlim(0, None)\n",
      "fig2.tight_layout()"
     ],
     "language": "python",
     "metadata": {},
     "outputs": []
    },
    {
     "cell_type": "heading",
     "level": 2,
     "metadata": {},
     "source": [
      "Conclusion"
     ]
    },
    {
     "cell_type": "markdown",
     "metadata": {},
     "source": [
      "We see that, both in liquid water content and rain rate, there exist two distinct regions; these likely correspond to one of the two roots chosen. This is problematic because this often leads to scattering calculation results that are:\n",
      "\n",
      "* Outside the space of those for the original dataset\n",
      "* Seemingly non-sensiscal in some places"
     ]
    }
   ],
   "metadata": {}
  }
 ]
}
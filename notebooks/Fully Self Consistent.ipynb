{
 "metadata": {
  "name": "Fully Self Consistent"
 },
 "nbformat": 3,
 "nbformat_minor": 0,
 "worksheets": [
  {
   "cells": [
    {
     "cell_type": "markdown",
     "metadata": {},
     "source": [
      "This explores the Self-Consistent with Contraints (Bringi et al. 2001) attenuation correction algorithm."
     ]
    },
    {
     "cell_type": "code",
     "collapsed": false,
     "input": [
      "# Initial set up\n",
      "import numpy as np\n",
      "import scipy.integrate as si\n",
      "import scipy.optimize as so\n",
      "import matplotlib.pyplot as plt\n",
      "%pylab inline"
     ],
     "language": "python",
     "metadata": {},
     "outputs": []
    },
    {
     "cell_type": "heading",
     "level": 2,
     "metadata": {},
     "source": [
      "Algorithm Implementation"
     ]
    },
    {
     "cell_type": "code",
     "collapsed": false,
     "input": [
      "# This is the main calculation, as outlined in equation (24) in the Testud et al. (2000) paper\n",
      "def zphi(z, dr, delta_phi, b=0.7644, gamma=3.2e-1):\n",
      "    phi_factor = np.expm1(np.log(10) * b * gamma * delta_phi / 10.)\n",
      "    return phi_factor * 10**((b / 10.) * z) / (I0(z, dr, b) + phi_factor * I(z, dr, b))"
     ],
     "language": "python",
     "metadata": {},
     "outputs": []
    },
    {
     "cell_type": "code",
     "collapsed": false,
     "input": [
      "# This is the implementation of the I function. We have two versions, since one needs to be\n",
      "# implemented as a cumulative function in order to maintain a dependence on r.\n",
      "\n",
      "# This is what the 0.46 really is. Using just 0.46 introduces a 1% error needlessly.\n",
      "coeff = (2. / 10.) * np.log(10)\n",
      "\n",
      "# Z needs to be in dB here. This is why the formula differs from the paper, which is linear.\n",
      "# Keeping Z in dB let's us only need a single pow (**) call.\n",
      "def I(z, dr, b):\n",
      "    # Cumulatively integrate away from the last value. Return these in the reverse order since\n",
      "    # it's supposed to be in order of increasing r.\n",
      "    return coeff * b * si.cumtrapz(10 ** ((b / 10.) * z[::-1]), dx=dr, initial=0)[::-1]\n",
      "\n",
      "# And here too\n",
      "def I0(z, dr, b):\n",
      "    return coeff * b * np.trapz(10 ** ((b / 10.) * z), dx=dr)"
     ],
     "language": "python",
     "metadata": {},
     "outputs": []
    },
    {
     "cell_type": "code",
     "collapsed": false,
     "input": [
      "def consistent_phidp(z, zdr, atten, coeffs, dr):\n",
      "    a,b,c,d = coeffs\n",
      "    kdp = (atten / (a * 10.**((b * z + c * zdr) / 10.))) ** (1. / d)\n",
      "    return 2 * si.cumtrapz(kdp, dx=dr, initial=0)\n",
      "\n",
      "def solve_gamma(phidp_calc, phidp_data, first_guess, dr):\n",
      "    return np.trapz(phidp_data - phidp_data[0]) / np.trapz(phidp_calc)\n",
      "\n",
      "def full_self_consistent(z, zdr, phidp, dr, zCoeffs, zdrCoeffs, eta=0.807):\n",
      "    #import pdb;pdb.set_trace()\n",
      "    atten_h = zphi(z, dr, phidp[-1] - phidp[0])\n",
      "    atten_d = eta * ah\n",
      "    gamma_new = np.array([1., 1.])\n",
      "    gamma = np.array([np.inf, np.inf])\n",
      "    d_h = zCoeffs[3]\n",
      "    d_d = zdrCoeffs[3]\n",
      "    while np.abs(gamma_new - gamma).max() > 1e-5:\n",
      "        gamma = gamma_new.copy()\n",
      "        z_corr = z + gamma[0]**d_h * atten_h\n",
      "        zdr_corr = zdr + gamma[1]**d_d * atten_d\n",
      "        phidp_h = consistent_phidp(z_corr, zdr_corr, atten_h, zCoeffs, dr)\n",
      "        gamma_new[0] = solve_gamma(phidp_h, phidp, gamma[0], dr)\n",
      "        z_corr = z + gamma_new[0]**d_h * atten_h\n",
      "        zdr_corr = zdr + eta * (gamma_new[0]**d_h * atten_h)\n",
      "        phidp_d = consistent_phidp(z_corr, zdr_corr, atten_d, zdrCoeffs, dr)\n",
      "        gamma_new[1] = solve_gamma(phidp_d, phidp, gamma[1], dr)\n",
      "        print gamma, gamma_new\n",
      "    return gamma_new[0] ** d_h * atten_h, gamma_new[1] ** d_d * atten_d        "
     ],
     "language": "python",
     "metadata": {},
     "outputs": []
    },
    {
     "cell_type": "heading",
     "level": 2,
     "metadata": {},
     "source": [
      "Testing the implementation"
     ]
    },
    {
     "cell_type": "markdown",
     "metadata": {},
     "source": [
      "Here we test our algorithm's implementation. We do this by generating an arbitrary reference reflectivity field (here a random walk). We then calculate attenuation and $K_{DP}$ using the assumptions made in the algorithm. We then pass the $\\Phi_{DP}$ and attenuated reflectivity calculated from this to the algorithm. If everything goes right, the retrieved attenuation should match that calculated. We see below that this is the case within reasonable numerical error. In this case, we see some increasing numerical error (but still small) due to the fact that the optimized coefficient is not exactly the same (but *is* close) to the true coefficient."
     ]
    },
    {
     "cell_type": "code",
     "collapsed": false,
     "input": [
      "# Generate reflectivity using a random walk over 100 km\n",
      "delta_r = 0.125 # km\n",
      "z_diffs = np.random.randn(100 / delta_r)\n",
      "z_gen = 30 + z_diffs.cumsum()\n",
      "zdr_gen = 0.048 * z_gen - 0.774\n",
      "zdr_gen[:] = 0.\n",
      "kdp_gen = 10 ** (z_gen * 0.7644 / 10.) * 4.8e-4\n",
      "#zdr_diffs = np.random.randn(100 / delta_r) * 0.05\n",
      "#zdr_gen = 1 + zdr_diffs.cumsum()\n",
      "#kdp_diffs = np.random.randn(100 / delta_r) * 0.1\n",
      "#kdp_gen = 1 + kdp_diffs.cumsum()\n",
      "#z_gen.fill(55)"
     ],
     "language": "python",
     "metadata": {},
     "outputs": []
    },
    {
     "cell_type": "code",
     "collapsed": false,
     "input": [
      "# Coefficients\n",
      "ah = 2.546e-5\n",
      "bh = 0.776\n",
      "ch = -0.340\n",
      "dh = 0.193\n",
      "ad = 9.174e-6\n",
      "bd = 0.674\n",
      "cd = 0.804\n",
      "dd = 0.380\n",
      "zcoeffs = np.array([ah, bh, ch, dh])\n",
      "zdrcoeffs = np.array([ad, bd, cd, dd])"
     ],
     "language": "python",
     "metadata": {},
     "outputs": []
    },
    {
     "cell_type": "code",
     "collapsed": false,
     "input": [
      "# Calculate data using assumptions\n",
      "z = z_gen.copy() # Used to make it easy to repeat with same random data\n",
      "zdr = zdr_gen.copy()\n",
      "kdp = kdp_gen.copy()\n",
      "Ah = ah * 10**((bh * z + ch * zdr) / 10.) * kdp ** dh\n",
      "atten_h = si.cumtrapz(2 * Ah, dx=delta_r, initial=0)\n",
      "atten_z = z - atten_h\n",
      "\n",
      "Ad = ad * 10**((bd * z + cd * zdr) / 10.) * kdp ** dd\n",
      "atten_d = si.cumtrapz(2 * Ad, dx=delta_r, initial=0)\n",
      "atten_zdr = zdr - atten_d\n",
      "phidp = 2 * si.cumtrapz(kdp, dx=delta_r, initial=0)"
     ],
     "language": "python",
     "metadata": {},
     "outputs": []
    },
    {
     "cell_type": "code",
     "collapsed": false,
     "input": [
      "# Run algorithm\n",
      "Ah_est, Ad_est = full_self_consistent(z, zdr, phidp, delta_r, zcoeffs, zdrcoeffs)\n",
      "corr_z = atten_z + (2 * delta_r * Ah_est).cumsum()\n",
      "corr_zdr = atten_zdr + (2 * delta_r * Ad_est).cumsum()"
     ],
     "language": "python",
     "metadata": {},
     "outputs": []
    },
    {
     "cell_type": "code",
     "collapsed": false,
     "input": [
      "# Plot some results\n",
      "rng = delta_r * np.arange(Ah.size)\n",
      "figsize(12, 4)\n",
      "fig,(ax1,ax2,ax3) = plt.subplots(1, 3)\n",
      "ax1.plot(rng, z, 'b', label='truth')\n",
      "ax1.plot(rng, atten_z, 'r', label='attenuated')\n",
      "ax1.plot(rng, corr_z, 'g', label='corrected')\n",
      "ax1.legend(loc='lower left')\n",
      "ax1.set_title('Reflectivity')\n",
      "\n",
      "ax2.plot(rng, Ah, 'r', label='truth')\n",
      "ax2.plot(rng, Ah_est, 'b', label='estimate')\n",
      "ax2.set_title('Attenuation')\n",
      "ax2.legend()\n",
      "\n",
      "rel_err = (Ah - Ah_est) / Ah\n",
      "ax3.plot(rng, rel_err, label='Relative Error')\n",
      "ax3.set_title('Relative Error')\n",
      "fig.tight_layout()"
     ],
     "language": "python",
     "metadata": {},
     "outputs": []
    },
    {
     "cell_type": "code",
     "collapsed": false,
     "input": [
      "# Look at the relative error\n",
      "rel_err.min(), rel_err.max()"
     ],
     "language": "python",
     "metadata": {},
     "outputs": []
    },
    {
     "cell_type": "code",
     "collapsed": false,
     "input": [
      "%qtconsole"
     ],
     "language": "python",
     "metadata": {},
     "outputs": []
    }
   ],
   "metadata": {}
  }
 ]
}
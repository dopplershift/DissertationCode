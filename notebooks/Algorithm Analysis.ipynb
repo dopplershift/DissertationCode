{
 "metadata": {
  "name": "Algorithm Analysis"
 },
 "nbformat": 3,
 "nbformat_minor": 0,
 "worksheets": [
  {
   "cells": [
    {
     "cell_type": "heading",
     "level": 2,
     "metadata": {},
     "source": [
      "Set-Up"
     ]
    },
    {
     "cell_type": "code",
     "collapsed": false,
     "input": [
      "%pylab inline\n",
      "import matplotlib.pyplot as plt\n",
      "import numpy as np\n",
      "plt.rcParams['savefig.dpi'] = 107"
     ],
     "language": "python",
     "metadata": {},
     "outputs": []
    },
    {
     "cell_type": "heading",
     "level": 2,
     "metadata": {},
     "source": [
      "Read data"
     ]
    },
    {
     "cell_type": "code",
     "collapsed": false,
     "input": [
      "#dreload(disser.io)"
     ],
     "language": "python",
     "metadata": {},
     "outputs": []
    },
    {
     "cell_type": "code",
     "collapsed": false,
     "input": [
      "from disser.io import DataCache\n",
      "def sorter(k):\n",
      "    # Map certain experiments to sort to front or end\n",
      "    return k[0], {'Control':'@', 'Combined':'}'}.get(k[1], k[1])\n",
      "\n",
      "def make_key(data):\n",
      "    diff_count = 0\n",
      "    exp_key = 'Control'\n",
      "    if np.abs(data.wavelength.rescale(pq.cm) - np.round(data.wavelength.rescale(pq.cm), 0)) < 0.1:\n",
      "        exp_key = 'Wavelength'\n",
      "        diff_count += 1\n",
      "    if np.isnan(data.runinfo.FixedTemp):\n",
      "        exp_key = 'Temperature'\n",
      "        diff_count += 1\n",
      "    if data.runinfo.CantingWidth > 10.0:\n",
      "        exp_key = 'Canting'\n",
      "        diff_count += 1\n",
      "    if data.runinfo.AxisRatioCalc != 'Brandes':\n",
      "        exp_key = 'Shape'\n",
      "        diff_count += 1\n",
      "    if diff_count > 1:\n",
      "        exp_key = 'Combined'\n",
      "    return data.waveBand, exp_key\n",
      "\n",
      "data_cache = DataCache('ref_runs', make_key, ('band', 'exp'), pattern='Cband*')\n",
      "data_cache.key_sorter = sorter\n",
      "wavelengths,exps = data_cache.sub_keys()"
     ],
     "language": "python",
     "metadata": {},
     "outputs": []
    },
    {
     "cell_type": "code",
     "collapsed": false,
     "input": [
      "import disser.plots.defaults as defaults\n",
      "from disser import plots, datatypes, atten"
     ],
     "language": "python",
     "metadata": {},
     "outputs": []
    },
    {
     "cell_type": "code",
     "collapsed": false,
     "input": [
      "AttenDelta = datatypes.DataType('Attenuation Difference', r'$\\Delta A$')\n",
      "SpecAttenDelta = datatypes.DataType('Specific Attenuation Difference', r'$\\Delta \\alpha$')\n",
      "DiffAttenDelta = datatypes.DataType('Differential Attenuation Difference', r'$\\Delta A_D$')\n",
      "SpecDiffAttenDelta = datatypes.DataType('Specific Differential Attenuation Difference', r'$\\Delta \\alpha_D$')\n",
      "PhiDelta = datatypes.DataType('Differential Phase Difference', r'$\\Delta \\Phi_{DP}$')"
     ],
     "language": "python",
     "metadata": {},
     "outputs": []
    },
    {
     "cell_type": "code",
     "collapsed": false,
     "input": [
      "#bidi_cmap = plt.get_cmap('Spectral')\n",
      "bidi_cmap = plots.get_cmap('Carbone42')\n",
      "datatypes.TypePlotInfo[AttenDelta].update(norm=plt.Normalize(-10, 10), cmap=bidi_cmap)\n",
      "datatypes.TypePlotInfo[SpecAttenDelta].update(norm=plt.Normalize(-1, 1), cmap=bidi_cmap)\n",
      "datatypes.TypePlotInfo[DiffAttenDelta].update(norm=plt.Normalize(-2, 2), cmap=bidi_cmap)\n",
      "datatypes.TypePlotInfo[SpecDiffAttenDelta].update(norm=plt.Normalize(-0.5, 0.5), cmap=bidi_cmap)\n",
      "datatypes.TypePlotInfo[PhiDelta].update(norm=plt.Normalize(-50, 50), cmap=bidi_cmap)"
     ],
     "language": "python",
     "metadata": {},
     "outputs": []
    },
    {
     "cell_type": "heading",
     "level": 2,
     "metadata": {},
     "source": [
      "Attenuation Algorithm Results"
     ]
    },
    {
     "cell_type": "code",
     "collapsed": false,
     "input": [
      "def run_attenuation_algs(data):\n",
      "    from disser.atten import attenAlgs\n",
      "    attenAlgs.runAll(data, var='H')\n",
      "    attenAlgs.runAll(data, var='diff')"
     ],
     "language": "python",
     "metadata": {},
     "outputs": []
    },
    {
     "cell_type": "code",
     "collapsed": false,
     "input": [
      "def calc_specific_atten(data, dt=datatypes.Attenuation, pol='H'):\n",
      "    destMap = {datatypes.Attenuation:datatypes.SpecAttenuation, datatypes.DiffAtten:datatypes.SpecDiffAtten}\n",
      "    fields = data.fields.grabAll(dt, filt=lambda f: f.pol==pol)\n",
      "    for f in fields:\n",
      "        d = data.fields[f]\n",
      "        spec = np.gradient(d, 1, data.gate_length)[1].rescale('dB/km')\n",
      "        data.addField(spec, destMap[dt], pol=f.pol, source=f.source)"
     ],
     "language": "python",
     "metadata": {},
     "outputs": []
    },
    {
     "cell_type": "code",
     "collapsed": false,
     "input": [
      "for d in data_cache.values():\n",
      "    d.fields.default_keys['source'] = 'average'\n",
      "    run_attenuation_algs(d)\n",
      "    calc_specific_atten(d, datatypes.Attenuation, pol='H')\n",
      "    calc_specific_atten(d, datatypes.DiffAtten, pol=None)"
     ],
     "language": "python",
     "metadata": {},
     "outputs": []
    },
    {
     "cell_type": "code",
     "collapsed": false,
     "input": [
      "def compare_atten(data, moment, rect):\n",
      "    fig = plt.figure(figsize=(8, 6))\n",
      "\n",
      "    ncols = len(data)\n",
      "    fields = data[0].fields.grabAll(moment.type, filt=lambda f: f.pol==moment.pol and f.source not in ('average', 'ts'))\n",
      "    nrows = len(fields)\n",
      "    \n",
      "    data_list = list()\n",
      "    for d in data:\n",
      "        data_list.extend([d]*nrows)\n",
      "    moments = fields * ncols\n",
      "    grid = defaults.multipanel_cbar_row(fig, (nrows, ncols), moments, data_list, rect=rect)\n",
      "    return fig, grid"
     ],
     "language": "python",
     "metadata": {},
     "outputs": []
    },
    {
     "cell_type": "code",
     "collapsed": false,
     "input": [
      "for lam_text in wavelengths:\n",
      "    data_list = data_cache.query(band=lam_text)\n",
      "    with datatypes.PlotInfoContext(wavelength=data_list[0].wavelength):\n",
      "        with defaults.colorbarLabeller(defaults.algLabels):\n",
      "            for pol,mom in [('H', datatypes.Attenuation), ('H', datatypes.SpecAttenuation),\n",
      "                            ('diff', datatypes.DiffAtten), ('diff', datatypes.SpecDiffAtten)]:\n",
      "                fig,grid = compare_atten(data_list, data_list[0].fields.grab(mom, pol=pol),\n",
      "                    rect=[0, 0, 1, 0.91])\n",
      "                fig.suptitle('%s-band %s' % (lam_text, pol), fontsize=11)\n",
      "                for ind,exp in enumerate(exps):\n",
      "                    grid.axes_row[0][ind].set_title(exp)"
     ],
     "language": "python",
     "metadata": {},
     "outputs": []
    },
    {
     "cell_type": "heading",
     "level": 2,
     "metadata": {},
     "source": [
      "Algorithm Difference Between Runs"
     ]
    },
    {
     "cell_type": "code",
     "collapsed": false,
     "input": [
      "def calc_differences_algs(data, dt=datatypes.Attenuation, pol='H'):\n",
      "    destMap = {datatypes.Attenuation:AttenDelta, datatypes.DiffAtten:DiffAttenDelta,\n",
      "        datatypes.SpecAttenuation:SpecAttenDelta, datatypes.SpecDiffAtten:SpecDiffAttenDelta}\n",
      "    ref_field = data.fields.grabData(dt, pol=pol, source='calc')\n",
      "    fields = data.fields.grabAll(dt, filt=lambda f: f.pol == pol and f.source not in ('calc', 'average', 'ts'))\n",
      "\n",
      "    for f in fields:\n",
      "        data.addField(data.fields[f] - ref_field, destMap[dt], pol=f.pol, source=f.source)"
     ],
     "language": "python",
     "metadata": {},
     "outputs": []
    },
    {
     "cell_type": "code",
     "collapsed": false,
     "input": [
      "for d in data_cache.values():\n",
      "    calc_differences_algs(d, dt=datatypes.Attenuation, pol='H')\n",
      "    calc_differences_algs(d, dt=datatypes.SpecAttenuation, pol='H')\n",
      "    calc_differences_algs(d, dt=datatypes.DiffAtten, pol=None)\n",
      "    calc_differences_algs(d, dt=datatypes.SpecDiffAtten, pol=None)"
     ],
     "language": "python",
     "metadata": {},
     "outputs": []
    },
    {
     "cell_type": "code",
     "collapsed": false,
     "input": [
      "def plot_differences_algs(data, dt, pol):\n",
      "    rect=[0, 0, 1, 0.92]\n",
      "    ncols = len(data)\n",
      "\n",
      "    data_list = list()\n",
      "    moments = list()\n",
      "    for d in data:\n",
      "        moms = d.fields.grabAll(dt, filt=lambda f: f.pol == pol and f.source not in ('calc', 'average', 'ts', 'sweep'))\n",
      "        moments.extend(moms)\n",
      "        data_list.extend([d]*len(moms))\n",
      "\n",
      "    nrows = len(moms)\n",
      "    fig = plt.figure(figsize=(8, 6))\n",
      "\n",
      "    with defaults.colorbarLabeller(defaults.algLabels):\n",
      "        grid = defaults.multipanel_cbar_row(fig, (nrows, ncols), moments, data_list, rect=rect)\n",
      "    return fig, grid    "
     ],
     "language": "python",
     "metadata": {},
     "outputs": []
    },
    {
     "cell_type": "code",
     "collapsed": false,
     "input": [
      "for lam_text in wavelengths:\n",
      "    data_list = data_cache.query(band=lam_text)\n",
      "    with datatypes.PlotInfoContext(wavelength=data_list[0].wavelength):\n",
      "        for pol,mom in [('H', AttenDelta), ('H', SpecAttenDelta),\n",
      "                        (None, DiffAttenDelta), (None, SpecDiffAttenDelta)]:\n",
      "            fig, grid = plot_differences_algs(data_list, mom, pol=pol)\n",
      "            polStr = 'Diff' if pol is None else pol\n",
      "            title = fig.suptitle('%s-band %s' % (lam_text, polStr), fontsize=11)\n",
      "            for ind,exp in enumerate(exps):\n",
      "                grid.axes_row[0][ind].set_title(exp)"
     ],
     "language": "python",
     "metadata": {},
     "outputs": []
    },
    {
     "cell_type": "code",
     "collapsed": false,
     "input": [
      "def plot_scatter_algs(data, dt, pol):\n",
      "    from matplotlib.colors import LogNorm\n",
      "    data_list = list()\n",
      "    moments = list()\n",
      "\n",
      "    # Assume all data have the same available moments\n",
      "    moms = [f.source for f in data[0].fields.grabAll(dt,\n",
      "            filt=lambda f: f.pol == pol and f.source not in ('calc', 'average', 'ts', 'sweep'))]\n",
      "    \n",
      "    fig, axes = plt.subplots(len(moms), len(data), sharex=True, sharey=True)\n",
      "    for rowInd, (mom, row) in enumerate(zip(moms, axes)):\n",
      "        for colInd, (d, ax) in enumerate(zip(data, row)):\n",
      "            ref_mom = d.fields.grab(dt, pol=pol, source='calc')\n",
      "            ref_field = d.fields[ref_mom]\n",
      "            alg_field = d.fields.grabData(dt, pol=pol, source=mom)\n",
      "            mask = (ref_field > 0.02) & (alg_field > 0.02)\n",
      "            with datatypes.PlotInfoContext(wavelength=d.wavelength):\n",
      "                norm = datatypes.TypePlotInfo[ref_mom.type]['norm']\n",
      "            hist, xedge, yedge = np.histogram2d(ref_field[mask], alg_field[mask], bins=50,\n",
      "                    range=[[norm.vmin, norm.vmax], [norm.vmin, norm.vmax]])\n",
      "            ax.pcolormesh(xedge, yedge, hist.T, norm=LogNorm())\n",
      "            ax.plot([0.0, 1.0], [0.0, 1.0], 'k--', transform=ax.transAxes)\n",
      "            ax.grid(True)\n",
      "            if colInd == 0:\n",
      "                ax.set_ylabel(mom)\n",
      "            if rowInd == len(moms) - 1:\n",
      "                ax.set_xlabel(ref_mom)\n",
      "    ax.set_xlim(0.0, None)\n",
      "    ax.set_ylim(0.0, None)\n",
      "    ax.xaxis.set_major_locator(plt.MaxNLocator(nbins=5))\n",
      "    ax.yaxis.set_major_locator(plt.MaxNLocator(nbins=5))\n",
      "    return fig, axes    "
     ],
     "language": "python",
     "metadata": {},
     "outputs": []
    },
    {
     "cell_type": "code",
     "collapsed": false,
     "input": [
      "for lam_text in wavelengths:\n",
      "    data_list = data_cache.query(band=lam_text)\n",
      "    with datatypes.PlotInfoContext(wavelength=data_list[0].wavelength):\n",
      "        for pol,mom in [('H', datatypes.SpecAttenuation), (None, datatypes.SpecDiffAtten)]:\n",
      "            fig, grid = plot_scatter_algs(data_list, mom, pol=pol)\n",
      "            polStr = 'Diff' if pol is None else pol\n",
      "            title = fig.suptitle('%s-band %s' % (lam_text, polStr), fontsize=11)\n",
      "            for ind,exp in enumerate(exps):\n",
      "                grid[0, ind].set_title(exp)\n",
      "            fig.tight_layout()"
     ],
     "language": "python",
     "metadata": {},
     "outputs": []
    }
   ],
   "metadata": {}
  }
 ]
}
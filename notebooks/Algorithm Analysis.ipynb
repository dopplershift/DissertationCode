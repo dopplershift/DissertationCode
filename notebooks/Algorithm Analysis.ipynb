{
 "metadata": {
  "name": "Algorithm Analysis"
 },
 "nbformat": 3,
 "nbformat_minor": 0,
 "worksheets": [
  {
   "cells": [
    {
     "cell_type": "heading",
     "level": 2,
     "metadata": {},
     "source": [
      "Set-Up"
     ]
    },
    {
     "cell_type": "code",
     "collapsed": false,
     "input": [
      "%pylab inline\n",
      "import matplotlib.pyplot as plt\n",
      "plt.rcParams['savefig.dpi'] = 107"
     ],
     "language": "python",
     "metadata": {},
     "outputs": []
    },
    {
     "cell_type": "heading",
     "level": 2,
     "metadata": {},
     "source": [
      "Read data"
     ]
    },
    {
     "cell_type": "code",
     "collapsed": false,
     "input": [
      "from disser.io import DataCache\n",
      "def sorter(k):\n",
      "    # Map certain experiments to sort to front or end\n",
      "    return k[0], {'Control':'@', 'Combined':'}'}.get(k[1], k[1])\n",
      "\n",
      "def make_key(data):\n",
      "    diff_count = 0\n",
      "    exp_key = 'Control'\n",
      "    if np.abs(data.wavelength.rescale(pq.cm) - np.round(data.wavelength.rescale(pq.cm), 0)) < 0.1:\n",
      "        exp_key = 'Wavelength'\n",
      "        diff_count += 1\n",
      "    if np.isnan(data.runinfo.FixedTemp):\n",
      "        exp_key = 'Temperature'\n",
      "        diff_count += 1\n",
      "    if data.runinfo.CantingWidth > 10.0:\n",
      "        exp_key = 'Canting'\n",
      "        diff_count += 1\n",
      "    if data.runinfo.AxisRatioCalc != 'Brandes':\n",
      "        exp_key = 'Shape'\n",
      "        diff_count += 1\n",
      "    if diff_count > 1:\n",
      "        exp_key = 'Combined'\n",
      "    return data.waveBand, exp_key\n",
      "\n",
      "data_cache = DataCache('ref_runs', make_key, ('band', 'exp'))\n",
      "data_cache.key_sorter = sorter\n",
      "wavelengths,exps = data_cache.sub_keys()"
     ],
     "language": "python",
     "metadata": {},
     "outputs": []
    },
    {
     "cell_type": "code",
     "collapsed": false,
     "input": [
      "import disser.plots.defaults as defaults\n",
      "from disser import plots, datatypes, atten"
     ],
     "language": "python",
     "metadata": {},
     "outputs": []
    },
    {
     "cell_type": "code",
     "collapsed": false,
     "input": [
      "AttenDelta = datatypes.DataType('Attenuation Difference', r'$\\Delta A$')\n",
      "DiffAttenDelta = datatypes.DataType('Differential Attenuation Difference', r'$\\Delta A_D$')\n",
      "PhiDelta = datatypes.DataType('Differential Phase Difference', r'$\\Delta \\Phi_{DP}$')"
     ],
     "language": "python",
     "metadata": {},
     "outputs": []
    },
    {
     "cell_type": "code",
     "collapsed": false,
     "input": [
      "bidi_cmap = plt.get_cmap('Spectral')\n",
      "bidi_cmap = plots.get_cmap('Carbone42')\n",
      "datatypes.TypePlotInfo[AttenDelta].update(norm=plt.Normalize(-10, 10), cmap=bidi_cmap)\n",
      "datatypes.TypePlotInfo[DiffAttenDelta].update(norm=plt.Normalize(-2, 2), cmap=bidi_cmap)\n",
      "datatypes.TypePlotInfo[PhiDelta].update(norm=plt.Normalize(-50, 50), cmap=bidi_cmap)"
     ],
     "language": "python",
     "metadata": {},
     "outputs": []
    },
    {
     "cell_type": "heading",
     "level": 2,
     "metadata": {},
     "source": [
      "Attenuation Algorithm Results"
     ]
    },
    {
     "cell_type": "code",
     "collapsed": false,
     "input": [
      "def run_attenuation_algs(data):\n",
      "    from disser.atten import attenAlgs\n",
      "    attenAlgs.runAll(data, var='H')\n",
      "    attenAlgs.runAll(data, var='diff')"
     ],
     "language": "python",
     "metadata": {},
     "outputs": []
    },
    {
     "cell_type": "code",
     "collapsed": false,
     "input": [
      "for d in data_cache.values():\n",
      "    d.fields.default_keys['source'] = 'ts'\n",
      "    run_attenuation_algs(d)"
     ],
     "language": "python",
     "metadata": {},
     "outputs": []
    },
    {
     "cell_type": "code",
     "collapsed": false,
     "input": [
      "def compare_atten(data, moment, rect):\n",
      "    fig = plt.figure(figsize(11, 6))\n",
      "\n",
      "    ncols = len(data)\n",
      "    fields = data[0].fields.grabAll(moment.type, filt=lambda f: f.pol==moment.pol and f.source not in ('average', 'ts'))\n",
      "    nrows = len(fields)\n",
      "    \n",
      "    data_list = list()\n",
      "    for d in data:\n",
      "        data_list.extend([d]*nrows)\n",
      "    moments = fields * ncols\n",
      "    grid = defaults.multipanel_cbar_row(fig, (nrows, ncols), moments, data_list, rect=rect)\n",
      "    return fig, grid"
     ],
     "language": "python",
     "metadata": {},
     "outputs": []
    },
    {
     "cell_type": "code",
     "collapsed": false,
     "input": [
      "for lam_text in wavelengths:\n",
      "    data_list = data_cache.query(band=lam_text)\n",
      "    with datatypes.PlotInfoContext(wavelength=data_list[0].wavelength):\n",
      "        with defaults.colorbarLabeller(defaults.algLabels):\n",
      "            fig,grid = compare_atten(data_list, data_list[0].fields.grab(datatypes.Attenuation, pol='H'),\n",
      "                    rect=[0, 0, 1, 0.91])\n",
      "        title = fig.suptitle('%s-band' % lam_text, fontsize=11)\n",
      "        for ind,exp in enumerate(exps):\n",
      "            grid.axes_row[0][ind].set_title(exp)"
     ],
     "language": "python",
     "metadata": {},
     "outputs": []
    },
    {
     "cell_type": "heading",
     "level": 2,
     "metadata": {},
     "source": [
      "Algorithm Difference Between Runs"
     ]
    },
    {
     "cell_type": "code",
     "collapsed": false,
     "input": [
      "def calc_differences_algs(data, dt=datatypes.Attenuation, pol='H'):\n",
      "    destMap = {datatypes.Attenuation:AttenDelta, datatypes.DiffAtten:DiffAttenDelta}\n",
      "    ref_field = data.fields.grabData(dt, pol=pol, source='calc')\n",
      "    fields = data.fields.grabAll(dt, filt=lambda f: f.pol == pol and f.source not in ('calc', 'average', 'ts'))\n",
      "\n",
      "    for f in fields:\n",
      "        data.addField(data.fields[f] - ref_field, destMap[dt], pol=f.pol, source=f.source)"
     ],
     "language": "python",
     "metadata": {},
     "outputs": []
    },
    {
     "cell_type": "code",
     "collapsed": false,
     "input": [
      "for d in data_cache.values():\n",
      "    calc_differences_algs(d)"
     ],
     "language": "python",
     "metadata": {},
     "outputs": []
    },
    {
     "cell_type": "code",
     "collapsed": false,
     "input": [
      "def plot_differences_algs(data, dt, pol):\n",
      "    rect=[0, 0, 1, 0.97]\n",
      "    ncols = len(data)\n",
      "\n",
      "    data_list = list()\n",
      "    moments = list()\n",
      "    for d in data:\n",
      "        moms = d.fields.grabAll(dt, filt=lambda f: f.pol == pol and f.source not in ('calc', 'average', 'ts', 'sweep'))\n",
      "        moments.extend(moms)\n",
      "        data_list.extend([d]*len(moms))\n",
      "\n",
      "    nrows = len(moms)\n",
      "    fig = plt.figure(figsize=(11, 6))\n",
      "\n",
      "    with defaults.colorbarLabeller(defaults.algLabels):\n",
      "        grid = defaults.multipanel_cbar_row(fig, (nrows, ncols), moments, data_list, rect=rect)\n",
      "    return fig, grid    "
     ],
     "language": "python",
     "metadata": {},
     "outputs": []
    },
    {
     "cell_type": "code",
     "collapsed": false,
     "input": [
      "for lam_text in wavelengths:\n",
      "    data_list = data_cache.query(band=lam_text)\n",
      "    with datatypes.PlotInfoContext(wavelength=data_list[0].wavelength):\n",
      "        fig, grid = plot_differences_algs(data_list, AttenDelta, pol='H')\n",
      "        title = fig.suptitle('%s-band' % lam_text, fontsize=11)\n",
      "        for ind,exp in enumerate(exps):\n",
      "            grid.axes_row[0][ind].set_title(exp)"
     ],
     "language": "python",
     "metadata": {},
     "outputs": []
    },
    {
     "cell_type": "code",
     "collapsed": false,
     "input": [],
     "language": "python",
     "metadata": {},
     "outputs": []
    }
   ],
   "metadata": {}
  }
 ]
}
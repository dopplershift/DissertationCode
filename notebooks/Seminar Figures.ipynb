{
 "metadata": {
  "name": "",
  "signature": "sha256:9e8288d86795f5d1c41959c5283e6ba721f55d541d5f0d43a2c87fbdd020f938"
 },
 "nbformat": 3,
 "nbformat_minor": 0,
 "worksheets": [
  {
   "cells": [
    {
     "cell_type": "heading",
     "level": 2,
     "metadata": {},
     "source": [
      "Set-Up"
     ]
    },
    {
     "cell_type": "code",
     "collapsed": false,
     "input": [
      "%matplotlib inline\n",
      "import matplotlib.pyplot as plt\n",
      "import numpy as np\n",
      "import quantities as pq\n",
      "plt.rcParams['savefig.dpi'] = 107"
     ],
     "language": "python",
     "metadata": {},
     "outputs": [],
     "prompt_number": 1
    },
    {
     "cell_type": "heading",
     "level": 2,
     "metadata": {},
     "source": [
      "Read data"
     ]
    },
    {
     "cell_type": "code",
     "collapsed": false,
     "input": [
      "from disser.io import DataCache\n",
      "def sorter(k):\n",
      "    # Map certain experiments to sort to front or end\n",
      "    return k[0], {'Control':'@', 'Combined':'}'}.get(k[1], k[1])\n",
      "\n",
      "def make_key(data):\n",
      "    diff_count = 0\n",
      "    exp_key = 'Control'\n",
      "    if np.abs(data.wavelength.rescale(pq.cm) - np.round(data.wavelength.rescale(pq.cm), 0)) < 0.1:\n",
      "        exp_key = 'Wavelength'\n",
      "        diff_count += 1\n",
      "    if np.isnan(data.runinfo.FixedTemp):\n",
      "        exp_key = 'Temperature'\n",
      "        diff_count += 1\n",
      "    if data.runinfo.CantingWidth > 10.0:\n",
      "        exp_key = 'Canting'\n",
      "        diff_count += 1\n",
      "    if data.runinfo.AxisRatioCalc != 'Brandes':\n",
      "        exp_key = 'Shape'\n",
      "        diff_count += 1\n",
      "    if diff_count > 1:\n",
      "        exp_key = 'Combined'\n",
      "    return data.waveBand, exp_key\n",
      "\n",
      "data_cache = DataCache('ref_runs', make_key, ('band', 'exp'), pattern='Cband*')\n",
      "del data_cache['C', 'Canting']\n",
      "data_cache.key_sorter = sorter\n",
      "wavelengths,exps = data_cache.sub_keys()"
     ],
     "language": "python",
     "metadata": {},
     "outputs": [
      {
       "output_type": "stream",
       "stream": "stderr",
       "text": [
        "/Users/rmay/repos/DissertationCode/disser/units.py:13: RuntimeWarning: invalid value encountered in log10\n",
        "  return pq.Quantity(np.log10(x.rescale(pq.dimensionless).magnitude, out),\n",
        "/Users/rmay/repos/python-quantities/quantities/quantity.py:281: RuntimeWarning: invalid value encountered in subtract\n",
        "  return super(Quantity, self).__sub__(other)\n"
       ]
      },
      {
       "output_type": "stream",
       "stream": "stderr",
       "text": [
        "/Users/rmay/repos/python-quantities/quantities/quantity.py:381: RuntimeWarning: invalid value encountered in less\n",
        "  return self.magnitude < other\n"
       ]
      }
     ],
     "prompt_number": 2
    },
    {
     "cell_type": "code",
     "collapsed": false,
     "input": [
      "import disser.plots.defaults as defaults\n",
      "from disser import plots, datatypes, atten"
     ],
     "language": "python",
     "metadata": {},
     "outputs": [],
     "prompt_number": 3
    },
    {
     "cell_type": "code",
     "collapsed": false,
     "input": [
      "AttenDelta = datatypes.DataType('Attenuation Difference', r'$\\Delta A$')\n",
      "SpecAttenDelta = datatypes.DataType('Specific Attenuation Difference', r'$\\Delta \\alpha$')\n",
      "DiffAttenDelta = datatypes.DataType('Differential Attenuation Difference', r'$\\Delta A_D$')\n",
      "SpecDiffAttenDelta = datatypes.DataType('Specific Differential Attenuation Difference', r'$\\Delta \\alpha_D$')\n",
      "PhiDelta = datatypes.DataType('Differential Phase Difference', r'$\\Delta \\Phi_{DP}$')"
     ],
     "language": "python",
     "metadata": {},
     "outputs": [],
     "prompt_number": 4
    },
    {
     "cell_type": "code",
     "collapsed": false,
     "input": [
      "#bidi_cmap = plt.get_cmap('Spectral')\n",
      "bidi_cmap = plots.get_cmap('Carbone42')\n",
      "datatypes.TypePlotInfo[AttenDelta].update(norm=plt.Normalize(-10, 10), cmap=bidi_cmap)\n",
      "datatypes.TypePlotInfo[SpecAttenDelta].update(norm=plt.Normalize(-1, 1), cmap=bidi_cmap)\n",
      "datatypes.TypePlotInfo[DiffAttenDelta].update(norm=plt.Normalize(-2, 2), cmap=bidi_cmap)\n",
      "datatypes.TypePlotInfo[SpecDiffAttenDelta].update(norm=plt.Normalize(-0.5, 0.5), cmap=bidi_cmap)\n",
      "datatypes.TypePlotInfo[PhiDelta].update(norm=plt.Normalize(-50, 50), cmap=bidi_cmap)"
     ],
     "language": "python",
     "metadata": {},
     "outputs": [],
     "prompt_number": 5
    },
    {
     "cell_type": "heading",
     "level": 2,
     "metadata": {},
     "source": [
      "Attenuation Algorithm Results"
     ]
    },
    {
     "cell_type": "code",
     "collapsed": false,
     "input": [
      "def run_attenuation_algs(data):\n",
      "    from disser.atten import attenAlgs\n",
      "    attenAlgs.runAll(data, var='H')\n",
      "    attenAlgs.runAll(data, var='diff')"
     ],
     "language": "python",
     "metadata": {},
     "outputs": [],
     "prompt_number": 6
    },
    {
     "cell_type": "code",
     "collapsed": false,
     "input": [
      "def calc_specific_atten(data, dt=datatypes.Attenuation, pol='H'):\n",
      "    destMap = {datatypes.Attenuation:datatypes.SpecAttenuation, datatypes.DiffAtten:datatypes.SpecDiffAtten}\n",
      "    fields = data.fields.grabAll(dt, filt=lambda f: f.pol==pol)\n",
      "    for f in fields:\n",
      "        d = data.fields[f]\n",
      "        spec = np.gradient(d, 1, data.gate_length)[1].rescale('dB/km')\n",
      "        data.addField(spec, destMap[dt], pol=f.pol, source=f.source)"
     ],
     "language": "python",
     "metadata": {},
     "outputs": [],
     "prompt_number": 7
    },
    {
     "cell_type": "code",
     "collapsed": false,
     "input": [
      "for d in data_cache.values():\n",
      "    d.fields.default_keys['source'] = 'average'\n",
      "    run_attenuation_algs(d)\n",
      "    calc_specific_atten(d, datatypes.Attenuation, pol='H')\n",
      "    calc_specific_atten(d, datatypes.DiffAtten, pol=None)"
     ],
     "language": "python",
     "metadata": {},
     "outputs": [
      {
       "output_type": "stream",
       "stream": "stderr",
       "text": [
        "/Users/rmay/repos/DissertationCode/disser/atten/algorithms.py:83: RuntimeWarning: invalid value encountered in greater\n",
        "  mask = (~np.isnan(phi[ray])) & (snr[ray] > 20.)\n",
        "/Users/rmay/repos/DissertationCode/disser/atten/algorithms.py:104: RuntimeWarning: invalid value encountered in greater\n",
        "  mask = (~np.isnan(phi[ray])) & (snr[ray] > 20.)\n"
       ]
      },
      {
       "output_type": "stream",
       "stream": "stderr",
       "text": [
        "/Users/rmay/repos/DissertationCode/disser/atten/algorithms.py:116: RuntimeWarning: invalid value encountered in less\n",
        "  atten[snr < 0.0] = np.nan\n",
        "/Users/rmay/repos/DissertationCode/disser/atten/algorithms.py:141: RuntimeWarning: invalid value encountered in greater\n",
        "  mask = (~np.isnan(phi[ray])) & (snr[ray] > 20.)\n",
        "/Users/rmay/repos/DissertationCode/disser/atten/algorithms.py:159: RuntimeWarning: invalid value encountered in less\n",
        "  atten[snr < 0.0] = np.nan\n"
       ]
      },
      {
       "output_type": "stream",
       "stream": "stderr",
       "text": [
        "/Users/rmay/repos/DissertationCode/disser/atten/algorithms.py:218: RuntimeWarning: invalid value encountered in greater\n",
        "  mask = (~np.isnan(phi[ray])) & (snr[ray] > 20.)\n",
        "/Users/rmay/repos/DissertationCode/disser/atten/algorithms.py:227: RuntimeWarning: invalid value encountered in less\n",
        "  atten[snr < 0.0] = np.nan\n"
       ]
      },
      {
       "output_type": "stream",
       "stream": "stderr",
       "text": [
        "/Users/rmay/repos/DissertationCode/disser/atten/algorithms.py:236: RuntimeWarning: divide by zero encountered in divide\n",
        "  + phi_factor * I(z, dr, b))\n"
       ]
      }
     ],
     "prompt_number": 8
    },
    {
     "cell_type": "code",
     "collapsed": false,
     "input": [
      "def calc_differences_algs(data, dt=datatypes.Attenuation, pol='H'):\n",
      "    destMap = {datatypes.Attenuation:AttenDelta, datatypes.DiffAtten:DiffAttenDelta,\n",
      "        datatypes.SpecAttenuation:SpecAttenDelta, datatypes.SpecDiffAtten:SpecDiffAttenDelta}\n",
      "    ref_field = data.fields.grabData(dt, pol=pol, source='calc')\n",
      "    fields = data.fields.grabAll(dt, filt=lambda f: f.pol == pol and f.source not in ('calc', 'average', 'ts'))\n",
      "\n",
      "    for f in fields:\n",
      "        data.addField(data.fields[f] - ref_field, destMap[dt], pol=f.pol, source=f.source)"
     ],
     "language": "python",
     "metadata": {},
     "outputs": [],
     "prompt_number": 9
    },
    {
     "cell_type": "code",
     "collapsed": false,
     "input": [
      "for d in data_cache.values():\n",
      "    calc_differences_algs(d, dt=datatypes.Attenuation, pol='H')\n",
      "    calc_differences_algs(d, dt=datatypes.SpecAttenuation, pol='H')\n",
      "    calc_differences_algs(d, dt=datatypes.DiffAtten, pol=None)\n",
      "    calc_differences_algs(d, dt=datatypes.SpecDiffAtten, pol=None)"
     ],
     "language": "python",
     "metadata": {},
     "outputs": [],
     "prompt_number": 10
    },
    {
     "cell_type": "code",
     "collapsed": false,
     "input": [
      "def setupDefaults(grid):\n",
      "    ax = grid[0]\n",
      "    ax.xaxis.set_major_locator(plt.MultipleLocator(10))\n",
      "    ax.set_xlim(-15, 15)\n",
      "    ax.set_ylim(0, 50)\n",
      "    \n",
      "def algLabelsNoSrc(dt, units):\n",
      "    abbr, src_str = dt.string_parts()\n",
      "    return '%s (%s)' % (abbr, units)\n",
      "\n",
      "plt.rcParams['font.size'] = 12\n",
      "plots.defaults.axisDefaults.setup = setupDefaults\n",
      "\n",
      "def exp_order(mom):\n",
      "    return {'calc':0, 'Linear':1, 'ZPHI':2, 'SC':3, 'MSC':4}[mom.source]"
     ],
     "language": "python",
     "metadata": {},
     "outputs": []
    },
    {
     "cell_type": "code",
     "collapsed": false,
     "input": [
      "for lam_text in wavelengths:\n",
      "    for exp in exps:\n",
      "        data = data_cache[lam_text, exp]\n",
      "        with datatypes.PlotInfoContext(wavelength=data.wavelength):\n",
      "            with defaults.colorbarLabeller(algLabelsNoSrc):\n",
      "                for pol,mom in [('H', datatypes.Attenuation), ('H', datatypes.SpecAttenuation),\n",
      "                                (None, datatypes.DiffAtten), (None, datatypes.SpecDiffAtten)]:\n",
      "                    fig = plt.figure(figsize=(8, 6))\n",
      "                    moments = data.fields.grabAll(mom, filt=lambda f: f.pol==pol and f.source not in ('average', 'ts'))\n",
      "                    moments = sorted(moments, key=exp_order)\n",
      "                    grid = defaults.multipanel_cbar_row(fig, (1, len(moments)), moments, data,\n",
      "                                                        rect=[0.07, 0.10, 0.95, 0.91])\n",
      "                    for ax,m in zip(grid, moments):\n",
      "                        src = m.source\n",
      "                        l = ax.set_title('Truth' if src == 'calc' else src)\n",
      "                        l.set_verticalalignment('bottom')\n",
      "                    fig.suptitle(exp, fontsize=18)"
     ],
     "language": "python",
     "metadata": {},
     "outputs": []
    },
    {
     "cell_type": "heading",
     "level": 2,
     "metadata": {},
     "source": [
      "Algorithm Difference Between Runs"
     ]
    },
    {
     "cell_type": "code",
     "collapsed": false,
     "input": [
      "for lam_text in wavelengths:\n",
      "    for exp in exps:\n",
      "        data = data_cache[lam_text, exp]\n",
      "        with datatypes.PlotInfoContext(wavelength=data.wavelength):\n",
      "            with defaults.colorbarLabeller(algLabelsNoSrc):\n",
      "                for pol,mom in [('H', datatypes.AttenDelta), ('H', datatypes.SpecAttenDelta),\n",
      "                                (None, datatypes.DiffAttenDelta), (None, datatypes.SpecDiffAttenDelta)]:\n",
      "                    fig = plt.figure(figsize=(8, 6))\n",
      "                    moments = data.fields.grabAll(mom)#, filt=lambda f: f.pol==pol and f.source not in ('average', 'ts'))\n",
      "                    moments = sorted(moments, key=exp_order)\n",
      "                    grid = defaults.multipanel_cbar_row(fig, (1, len(moments)), moments, data,\n",
      "                                                        rect=[0.07, 0.05, 0.95, 0.85])\n",
      "                    for ax,m in zip(grid, moments):\n",
      "                        l = ax.set_title(m.source)\n",
      "                        l.set_verticalalignment('bottom')\n",
      "                    fig.suptitle(exp, fontsize=18)"
     ],
     "language": "python",
     "metadata": {},
     "outputs": []
    },
    {
     "cell_type": "code",
     "collapsed": false,
     "input": [
      "from matplotlib.colors import LogNorm"
     ],
     "language": "python",
     "metadata": {},
     "outputs": []
    },
    {
     "cell_type": "code",
     "collapsed": false,
     "input": [
      "for lam_text in wavelengths:\n",
      "    for exp in exps:\n",
      "        data = data_cache[lam_text, exp]\n",
      "        with datatypes.PlotInfoContext(wavelength=data.wavelength):\n",
      "            with defaults.colorbarLabeller(algLabelsNoSrc):\n",
      "                for pol,mom in [('H', datatypes.SpecAttenuation), (None, datatypes.SpecDiffAtten)]:\n",
      "                    ref_mom = data.fields.grab(mom, pol=pol, source='calc')\n",
      "                    ref_field = data.fields[ref_mom]\n",
      "                    moments = data.fields.grabAll(mom,\n",
      "                            filt=lambda f: f.pol == pol and f.source not in ('calc', 'average', 'ts', 'sweep'))\n",
      "                    moments = sorted(moments, key=exp_order)\n",
      "\n",
      "                    fig, axes = plt.subplots(1, len(moments), sharex=True, sharey=True, figsize=(10,4))\n",
      "                    fig.subplots_adjust(top=0.8)\n",
      "                    for ind, (m, ax) in enumerate(zip(moments, axes)):\n",
      "                        alg_field = data.fields[m]\n",
      "                        mask = (ref_field > 0.02) & (alg_field > 0.02)\n",
      "                        norm = datatypes.TypePlotInfo[ref_mom.type]['norm']\n",
      "                        hist, xedge, yedge = np.histogram2d(ref_field[mask], alg_field[mask], bins=50,\n",
      "                                range=[[norm.vmin, norm.vmax], [norm.vmin, norm.vmax]])\n",
      "                        ax.pcolormesh(xedge, yedge, hist.T, norm=LogNorm())\n",
      "                        ax.plot([0.0, 1.0], [0.0, 1.0], 'k--', transform=ax.transAxes)\n",
      "                        ax.grid(True)\n",
      "                        l = ax.set_title(m.source)\n",
      "                        l.set_verticalalignment('bottom')\n",
      "                        if ind == 0:\n",
      "                            ax.set_ylabel(mom.name)\n",
      "\n",
      "                    axes[0].set_xlim(0.0, None)\n",
      "                    axes[0].set_ylim(0.0, None)\n",
      "                    axes[0].xaxis.set_major_locator(plt.MaxNLocator(nbins=5))\n",
      "                    axes[0].yaxis.set_major_locator(plt.MaxNLocator(nbins=5))\n",
      "\n",
      "                    fig.suptitle('%s - %s' % (exp, mom.name), fontsize=18)"
     ],
     "language": "python",
     "metadata": {},
     "outputs": []
    }
   ],
   "metadata": {}
  }
 ]
}
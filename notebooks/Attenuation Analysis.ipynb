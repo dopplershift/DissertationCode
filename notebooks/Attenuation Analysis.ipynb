{
 "metadata": {
  "name": "Attenuation Analysis"
 },
 "nbformat": 3,
 "nbformat_minor": 0,
 "worksheets": [
  {
   "cells": [
    {
     "cell_type": "heading",
     "level": 2,
     "metadata": {},
     "source": [
      "Set-Up"
     ]
    },
    {
     "cell_type": "code",
     "collapsed": false,
     "input": [
      "%pylab inline"
     ],
     "language": "python",
     "metadata": {},
     "outputs": []
    },
    {
     "cell_type": "code",
     "collapsed": false,
     "input": [
      "import matplotlib.pyplot as plt\n",
      "from disser.io import NetCDFRadarData\n",
      "from disser.sigproc import phidpOffset\n",
      "from disser import datatypes\n",
      "import disser.plots.defaults as defaults\n",
      "from disser import plots, datatypes, atten\n",
      "import os.path\n",
      "import glob\n",
      "figsize(11, 6)\n",
      "plt.rcParams['savefig.dpi'] = 107"
     ],
     "language": "python",
     "metadata": {},
     "outputs": []
    },
    {
     "cell_type": "heading",
     "level": 2,
     "metadata": {},
     "source": [
      "Read data"
     ]
    },
    {
     "cell_type": "code",
     "collapsed": false,
     "input": [
      "data_cache = dict()\n",
      "wavelengths = set()\n",
      "exps = set()\n",
      "for datafile in glob.glob('temper_runs/*'):\n",
      "    data = NetCDFRadarData(datafile)\n",
      "    lam_key = '%.1f' % data.wavelength.rescale(pq.cm)\n",
      "    wavelengths.add(lam_key)\n",
      "    exp_key = 'Model' if np.isnan(data.runinfo.FixedTemp) else '%i K' % data.runinfo.FixedTemp\n",
      "    exps.add(exp_key)\n",
      "    data_cache[lam_key, exp_key] = data\n",
      "exps = sorted(exps)[::-1]"
     ],
     "language": "python",
     "metadata": {},
     "outputs": []
    },
    {
     "cell_type": "heading",
     "level": 2,
     "metadata": {},
     "source": [
      "Basic Data Plots"
     ]
    },
    {
     "cell_type": "code",
     "collapsed": false,
     "input": [
      "for lam_text, exp_text in sorted(data_cache):\n",
      "    data = data_cache[lam_text, exp_text]\n",
      "    with datatypes.PlotInfoContext(wavelength=data.wavelength):\n",
      "        moments = [data.fields.grab(moment, pol='H', source='ts')\n",
      "                       for moment in (datatypes.Reflectivity,\n",
      "                           datatypes.DopplerVelocity, datatypes.SpectrumWidth,\n",
      "                           datatypes.ZDR, datatypes.RhoHV, datatypes.KDP,\n",
      "                           datatypes.PhiDP, datatypes.SpecDiffAtten)]\n",
      "\n",
      "        grid = defaults.multipanel_cbar_each(plt.figure(), (2, 4), moments, data, rect=[0, 0, 1, 0.87])\n",
      "        text = '%s cm Temp: %s' % (lam_text, exp_text)\n",
      "        title = grid[0].figure.suptitle(text, fontsize=11)"
     ],
     "language": "python",
     "metadata": {},
     "outputs": []
    },
    {
     "cell_type": "heading",
     "level": 2,
     "metadata": {},
     "source": [
      "Attenuation"
     ]
    },
    {
     "cell_type": "code",
     "collapsed": false,
     "input": [
      "figsize(12, 12)\n",
      "for lam_text in wavelengths:\n",
      "    moments = list()\n",
      "    data_list = list()\n",
      "    for exp_text in exps:\n",
      "        data = data_cache[lam_text, exp_text]\n",
      "        moms = [data.fields.grab(datatypes.PhiDP, pol='H', source='average'),\n",
      "                data.fields.grab(datatypes.Attenuation, pol='H', source='calc'),\n",
      "                data.fields.grab(datatypes.SpecAttenuation, pol='H', source='calc'),\n",
      "                data.fields.grab(datatypes.DiffAtten, pol='H', source='calc'),\n",
      "                data.fields.grab(datatypes.SpecDiffAtten, pol='H', source='calc')]\n",
      "        moments.extend(moms)\n",
      "        data_list.extend([data] * len(moms))\n",
      "\n",
      "    with datatypes.PlotInfoContext(wavelength=data.wavelength):\n",
      "        grid = defaults.multipanel_cbar_row(plt.figure(), (len(moms), len(exps)), moments, data_list, rect=[0, 0, 1, 0.9])\n",
      "        title = grid[0].figure.suptitle('%s cm' % lam_text, fontsize=11)\n",
      "        for ind,exp in enumerate(exps):\n",
      "            grid[len(moms)*ind].set_title(exp)"
     ],
     "language": "python",
     "metadata": {},
     "outputs": []
    },
    {
     "cell_type": "code",
     "collapsed": false,
     "input": [
      "AttenDelta = datatypes.DataType('Attenuation Difference', r'$\\Delta A_H$')\n",
      "datatypes.TypePlotInfo[AttenDelta].update(norm=plt.Normalize(-5, 5), cmap=plt.get_cmap('RdBu'))\n",
      "DiffAttenDelta = datatypes.DataType('Differential Attenuation Difference', r'$\\Delta A_D$')\n",
      "datatypes.TypePlotInfo[DiffAttenDelta].update(norm=plt.Normalize(-1, 1), cmap=plt.get_cmap('RdBu'))\n",
      "PhiDelta = datatypes.DataType('Differential Phase Difference', r'$\\Delta \\Phi_{DP}$')\n",
      "datatypes.TypePlotInfo[PhiDelta].update(norm=plt.Normalize(-5, 5), cmap=plt.get_cmap('RdBu'))\n",
      "\n",
      "def run_attenuation_algs(data):\n",
      "    if data.waveBand == 'C':\n",
      "        lin_atten = atten.linear_phi(data.fields.grabData(datatypes.PhiDP, source='ts') - phidpOffset,\n",
      "                                     coeff=0.08, lam=data.waveBand, var='H')\n",
      "        data.addField(lin_atten, datatypes.Attenuation, pol='H', source='linear[0.08]')\n",
      "    lin_atten = atten.linear_phi(data.fields.grabData(datatypes.PhiDP, source='ts') - phidpOffset,\n",
      "                                 lam=data.waveBand, var='H')\n",
      "    data.addField(lin_atten, datatypes.Attenuation, pol='H', source='linear')\n",
      "    lin_diff_atten = atten.linear_phi(data.fields.grabData(datatypes.PhiDP, source='ts') - phidpOffset,\n",
      "                                      lam=data.waveBand, var='diff')\n",
      "    data.addField(lin_atten, datatypes.DiffAtten, source='linear')\n",
      "\n",
      "def calc_differences_algs(data, dt=datatypes.Attenuation, pol='H'):\n",
      "    destMap = {datatypes.Attenuation:AttenDelta, datatypes.DiffAtten:DiffAttenDelta}\n",
      "    ref_field = data.fields.grabData(dt, pol=pol, source='calc')\n",
      "    fields = data.fields.grabAll(dt, filt=lambda f: f.pol == pol and f.source not in ('calc', 'average', 'ts'))\n",
      "\n",
      "    for f in fields:\n",
      "        data.addField(data.fields[f] - ref_field, destMap[dt], pol=f.pol, source=f.source)\n",
      "\n",
      "def calc_differences_sweeps(sweeps):\n",
      "    ref_atten = sweeps[0].fields.grabData(datatypes.Attenuation, pol='H', source='calc')\n",
      "    ref_diff_atten = sweeps[0].fields.grabData(datatypes.DiffAtten, source='calc')\n",
      "    ref_phi = sweeps[0].fields.grabData(datatypes.PhiDP)\n",
      "    for s in sweeps[1:]:\n",
      "        s.addField(s.fields.grabData(datatypes.Attenuation, pol='H', source='calc') - ref_atten, AttenDelta)\n",
      "        s.addField(s.fields.grabData(datatypes.DiffAtten, source='calc') - ref_diff_atten, DiffAttenDelta)\n",
      "        s.addField(s.fields.grabData(datatypes.PhiDP) - ref_phi, PhiDelta)"
     ],
     "language": "python",
     "metadata": {},
     "outputs": []
    },
    {
     "cell_type": "code",
     "collapsed": false,
     "input": [
      "def plot_differences(sweeps):\n",
      "    rect=[0, 0, 1, 0.9]\n",
      "    ncols = len(sweeps) - 1\n",
      "    nrows = 3\n",
      "    fig = plt.figure(figsize=(8, 6), dpi=107)\n",
      "\n",
      "    data_list = list()\n",
      "    moments = list()\n",
      "    for s in sweeps[1:]:\n",
      "        data_list.extend([s]*3)\n",
      "        moments.append(s.fields.grab(AttenDelta))\n",
      "        moments.append(s.fields.grab(DiffAttenDelta))\n",
      "        moments.append(s.fields.grab(PhiDelta))\n",
      "\n",
      "    grid = defaults.multipanel_cbar_row(fig, (nrows, ncols), moments, data_list, rect=rect)\n",
      "    return fig, grid\n",
      "\n",
      "def plot_differences_algs(data, dt, pol):\n",
      "    rect=[0, 0, 1, 0.9]\n",
      "    ncols = len(data)\n",
      "\n",
      "    data_list = list()\n",
      "    moments = list()\n",
      "    for d in data:\n",
      "        moms = d.fields.grabAll(dt, filt=lambda f: f.pol == pol and f.source not in ('calc', 'average', 'ts'))\n",
      "        moments.extend(moms)\n",
      "        data_list.extend([d]*len(moms))\n",
      "\n",
      "    nrows = len(moms)\n",
      "    fig = plt.figure(figsize=(8, 6), dpi=107)\n",
      "\n",
      "    grid = defaults.multipanel_cbar_row(fig, (nrows, ncols), moments, data_list, rect=rect)\n",
      "    return fig, grid    "
     ],
     "language": "python",
     "metadata": {},
     "outputs": []
    },
    {
     "cell_type": "code",
     "collapsed": false,
     "input": [
      "for lam_text in wavelengths:\n",
      "    calc_differences_sweeps([data_cache[lam_text, exp] for exp in exps])"
     ],
     "language": "python",
     "metadata": {},
     "outputs": []
    },
    {
     "cell_type": "code",
     "collapsed": false,
     "input": [
      "fig, grid = plot_differences([data_cache['5.5', exp] for exp in exps])\n",
      "\n",
      "for ind,exp in enumerate(exps[1:]):\n",
      "    grid[3*ind].set_title('%s - %s' % (exp, exps[0]))"
     ],
     "language": "python",
     "metadata": {},
     "outputs": []
    },
    {
     "cell_type": "code",
     "collapsed": false,
     "input": [
      "for d in data_cache.values():\n",
      "    run_attenuation_algs(d)\n",
      "    calc_differences_algs(d)"
     ],
     "language": "python",
     "metadata": {},
     "outputs": []
    },
    {
     "cell_type": "code",
     "collapsed": false,
     "input": [
      "def compare_atten(data, moment, rect):\n",
      "    fig = plt.figure(figsize=(12, 12), dpi=107)\n",
      "\n",
      "    ncols = len(data)\n",
      "    fields = data[0].fields.grabAll(moment.type, filt=lambda f: f.pol==moment.pol and f.source != 'average')\n",
      "    nrows = len(fields)\n",
      "    # Need some way to control the formatting of a datatype into a string\n",
      "    # Maybe using a \"global\" setting and a context maanger\n",
      "    \n",
      "    data_list = list()\n",
      "    for d in data:\n",
      "        data_list.extend([d]*nrows)\n",
      "    moments = fields * ncols\n",
      "    grid = defaults.multipanel_cbar_row(fig, (nrows, ncols), moments, data_list, rect=rect)\n",
      "    return fig, grid"
     ],
     "language": "python",
     "metadata": {},
     "outputs": []
    },
    {
     "cell_type": "code",
     "collapsed": false,
     "input": [
      "for lam_text in wavelengths:\n",
      "    data_list = [data_cache[lam_text, exp] for exp in exps]\n",
      "    with datatypes.PlotInfoContext(wavelength=data_list[0].wavelength):\n",
      "        fig,grid = compare_atten(data_list, data_list[0].fields.grab(datatypes.Attenuation, pol='H'),\n",
      "                rect=[0, 0, 1, 0.9])\n",
      "        title = fig.suptitle('%s cm' % lam_text, fontsize=11)\n",
      "        for ind,exp in enumerate(exps):\n",
      "            grid.axes_row[0][ind].set_title(exp)"
     ],
     "language": "python",
     "metadata": {},
     "outputs": []
    },
    {
     "cell_type": "code",
     "collapsed": false,
     "input": [
      "for lam_text in wavelengths:\n",
      "    data_list = [data_cache[lam_text, exp] for exp in exps]\n",
      "    with datatypes.PlotInfoContext(wavelength=data_list[0].wavelength):\n",
      "        fig, grid = plot_differences_algs(data_list, AttenDelta, pol='H')\n",
      "        title = fig.suptitle('%s cm' % lam_text, fontsize=11)\n",
      "        for ind,exp in enumerate(exps):\n",
      "            grid.axes_row[0][ind].set_title(exp)"
     ],
     "language": "python",
     "metadata": {},
     "outputs": []
    }
   ],
   "metadata": {}
  }
 ]
}
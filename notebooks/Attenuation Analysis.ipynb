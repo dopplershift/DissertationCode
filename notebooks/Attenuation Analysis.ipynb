{
 "metadata": {
  "name": "Attenuation Analysis"
 },
 "nbformat": 3,
 "nbformat_minor": 0,
 "worksheets": [
  {
   "cells": [
    {
     "cell_type": "heading",
     "level": 2,
     "metadata": {},
     "source": [
      "Set-Up"
     ]
    },
    {
     "cell_type": "code",
     "collapsed": false,
     "input": [
      "%pylab inline\n",
      "figsize(12, 6)\n",
      "plt.rcParams['savefig.dpi'] = 108"
     ],
     "language": "python",
     "metadata": {},
     "outputs": []
    },
    {
     "cell_type": "code",
     "collapsed": false,
     "input": [
      "import matplotlib.pyplot as plt\n",
      "from disser.io import NetCDFRadarData\n",
      "from disser import datatypes\n",
      "import disser.plots.defaults as defaults\n",
      "from disser import plots, datatypes\n",
      "import os.path\n",
      "import glob"
     ],
     "language": "python",
     "metadata": {},
     "outputs": []
    },
    {
     "cell_type": "code",
     "collapsed": false,
     "input": [
      "def make_plot(data, moments, rect):\n",
      "    fig = plt.figure(figsize=(8, 4), dpi=107)\n",
      "\n",
      "    ncols = 4\n",
      "    nrows = len(moments) // ncols\n",
      "    # Need some way to control the formatting of a datatype into a string\n",
      "    # Maybe using a \"global\" setting and a context maanger\n",
      "    grid = defaults.multipanel_cbar_each(fig, (nrows, ncols), moments, data, rect=rect)\n",
      "    ax = grid[0]\n",
      "\n",
      "    ax.xaxis.set_major_locator(plt.MultipleLocator(10))\n",
      "    ax.set_ylim(0, 50)\n",
      "    ax.set_xlim(-20, 20)\n",
      "    return fig"
     ],
     "language": "python",
     "metadata": {},
     "outputs": []
    },
    {
     "cell_type": "heading",
     "level": 2,
     "metadata": {},
     "source": [
      "Read data"
     ]
    },
    {
     "cell_type": "code",
     "collapsed": false,
     "input": [
      "data_cache = dict()\n",
      "for datafile in glob.glob('temper_runs/*'):\n",
      "    data = NetCDFRadarData(datafile)\n",
      "    lam_key = '%.1f' % data.wavelength.rescale(pq.cm)\n",
      "    temp_key = 'Model' if np.isnan(data.runinfo.FixedTemp) else '%i K' % data.runinfo.FixedTemp\n",
      "    data_cache[lam_key, temp_key] = data"
     ],
     "language": "python",
     "metadata": {},
     "outputs": []
    },
    {
     "cell_type": "heading",
     "level": 2,
     "metadata": {},
     "source": [
      "Basic Data Plots"
     ]
    },
    {
     "cell_type": "code",
     "collapsed": false,
     "input": [
      "for lam_text, temp_text in sorted(data_cache):\n",
      "    data = data_cache[lam_text, temp_text]\n",
      "    moments = [data.fields.grab(moment, pol='H', source='ts')\n",
      "                   for moment in (datatypes.Power, datatypes.Reflectivity,\n",
      "                       datatypes.DopplerVelocity, datatypes.SpectrumWidth,\n",
      "                       datatypes.ZDR, datatypes.RhoHV, datatypes.KDP,\n",
      "                       datatypes.PhiDP)]\n",
      "\n",
      "    fig = make_plot(data, moments, rect=[0, 0, 1, 0.87])\n",
      "    text = '%s cm Temp: %s' % (lam_text, temp_text)\n",
      "    title = fig.suptitle(text, fontsize=11)"
     ],
     "language": "python",
     "metadata": {},
     "outputs": []
    },
    {
     "cell_type": "heading",
     "level": 2,
     "metadata": {},
     "source": [
      "Attenuation"
     ]
    },
    {
     "cell_type": "code",
     "collapsed": false,
     "input": [
      "def atten_plot(data, moments, rect):\n",
      "    fig = plt.figure(figsize=(8, 6), dpi=107)\n",
      "\n",
      "    ncols = 3\n",
      "    nrows = len(moments) // ncols\n",
      "    # Need some way to control the formatting of a datatype into a string\n",
      "    # Maybe using a \"global\" setting and a context maanger\n",
      "    grid = defaults.multipanel_cbar_row(fig, (nrows, ncols), moments, data, rect=rect)\n",
      "    ax = grid[0]\n",
      "\n",
      "    ax.xaxis.set_major_locator(plt.MultipleLocator(10))\n",
      "    ax.set_ylim(0, 50)\n",
      "    ax.set_xlim(-20, 20)\n",
      "    return fig, grid"
     ],
     "language": "python",
     "metadata": {},
     "outputs": []
    },
    {
     "cell_type": "code",
     "collapsed": false,
     "input": [
      "temps = ['283 K', '293 K', 'Model']\n",
      "for lam_text in ['3.2', '5.5']:\n",
      "    moments = list()\n",
      "    data_list = list()\n",
      "    for temp_text in temps:\n",
      "        data = data_cache[lam_text, temp_text]\n",
      "        data_list.extend([data] * 3)\n",
      "        moments.append(data.fields.grab(datatypes.Attenuation, pol='H', source='calc'))\n",
      "        moments.append(data.fields.grab(datatypes.DiffAtten, pol='H', source='calc'))\n",
      "        moments.append(data.fields.grab(datatypes.PhiDP, pol='H', source='average'))\n",
      "    \n",
      "    fig,grid = atten_plot(data_list, moments, rect=[0, 0, 1, 0.9])\n",
      "    title = fig.suptitle('%s cm' % lam_text, fontsize=11)\n",
      "    for ind,temp in enumerate(temps):\n",
      "        grid[3*ind].set_title(temp)"
     ],
     "language": "python",
     "metadata": {},
     "outputs": []
    },
    {
     "cell_type": "code",
     "collapsed": false,
     "input": [
      "AttenDelta = datatypes.DataType('Attenuation Difference', r'$\\Delta A_H$')\n",
      "datatypes.TypePlotInfo[AttenDelta].update(norm=plt.Normalize(-5, 5), cmap=plt.get_cmap('RdBu'))\n",
      "DiffAttenDelta = datatypes.DataType('Differential Attenuation Difference', r'$\\Delta A_D$')\n",
      "datatypes.TypePlotInfo[DiffAttenDelta].update(norm=plt.Normalize(-1, 1), cmap=plt.get_cmap('RdBu'))\n",
      "PhiDelta = datatypes.DataType('Differential Phase Difference', r'$\\Delta \\Phi_{DP}$')\n",
      "datatypes.TypePlotInfo[PhiDelta].update(norm=plt.Normalize(-5, 5), cmap=plt.get_cmap('RdBu'))\n",
      "\n",
      "def calc_differences(sweeps):\n",
      "    ref_atten = sweeps[0].fields.grabData(datatypes.Attenuation, pol='H', source='calc')\n",
      "    ref_diff_atten = sweeps[0].fields.grabData(datatypes.DiffAtten, source='calc')\n",
      "    ref_phi = sweeps[0].fields.grabData(datatypes.PhiDP)\n",
      "    for s in sweeps[1:]:\n",
      "        s.addField(s.fields.grabData(datatypes.Attenuation, pol='H', source='calc') - ref_atten, AttenDelta)\n",
      "        s.addField(s.fields.grabData(datatypes.DiffAtten, source='calc') - ref_diff_atten, DiffAttenDelta)\n",
      "        s.addField(s.fields.grabData(datatypes.PhiDP) - ref_phi, PhiDelta)"
     ],
     "language": "python",
     "metadata": {},
     "outputs": []
    },
    {
     "cell_type": "code",
     "collapsed": false,
     "input": [
      "def plot_differences(sweeps):\n",
      "    rect=[0, 0, 1, 0.9]    \n",
      "    ncols = len(sweeps) - 1\n",
      "    nrows = 3\n",
      "    fig = plt.figure(figsize=(8, 6), dpi=107)\n",
      "\n",
      "    data_list = list()\n",
      "    moments = list()\n",
      "    for s in sweeps[1:]:\n",
      "        data_list.extend([s]*3)\n",
      "        moments.append(s.fields.grab(AttenDelta))\n",
      "        moments.append(s.fields.grab(DiffAttenDelta))\n",
      "        moments.append(s.fields.grab(PhiDelta))\n",
      "\n",
      "    grid = defaults.multipanel_cbar_row(fig, (nrows, ncols), moments, data_list, rect=rect)\n",
      "    ax = grid[0]\n",
      "\n",
      "    ax.xaxis.set_major_locator(plt.MultipleLocator(10))\n",
      "    ax.set_ylim(0, 50)\n",
      "    ax.set_xlim(-20, 20)\n",
      "    return fig, grid"
     ],
     "language": "python",
     "metadata": {},
     "outputs": []
    },
    {
     "cell_type": "code",
     "collapsed": false,
     "input": [
      "temps = ['Model', '283 K', '293 K']\n",
      "for lam_text in ['3.2', '5.5']:\n",
      "    calc_differences([data_cache[lam_text, temp_text] for temp_text in temps])"
     ],
     "language": "python",
     "metadata": {},
     "outputs": []
    },
    {
     "cell_type": "code",
     "collapsed": false,
     "input": [
      "fig, grid = plot_differences([data_cache['5.5', temp_text] for temp_text in temps])\n",
      "\n",
      "for ind,temp in enumerate(temps[1:]):\n",
      "    grid[3*ind].set_title('%s - %s' % (temp, temps[0]))"
     ],
     "language": "python",
     "metadata": {},
     "outputs": []
    }
   ],
   "metadata": {}
  }
 ]
}